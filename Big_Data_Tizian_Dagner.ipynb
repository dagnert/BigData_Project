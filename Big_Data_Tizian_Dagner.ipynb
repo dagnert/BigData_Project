{
  "nbformat": 4,
  "nbformat_minor": 0,
  "metadata": {
    "kernelspec": {
      "language": "python",
      "display_name": "Python 3",
      "name": "python3"
    },
    "language_info": {
      "name": "python",
      "version": "3.7.6",
      "mimetype": "text/x-python",
      "codemirror_mode": {
        "name": "ipython",
        "version": 3
      },
      "pygments_lexer": "ipython3",
      "nbconvert_exporter": "python",
      "file_extension": ".py"
    },
    "colab": {
      "name": "Big_Data_Tizian_Dagner.ipynb",
      "provenance": [],
      "include_colab_link": true
    }
  },
  "cells": [
    {
      "cell_type": "markdown",
      "metadata": {
        "id": "view-in-github",
        "colab_type": "text"
      },
      "source": [
        "<a href=\"https://colab.research.google.com/github/dagnert/Big_Data/blob/master/Big_Data_Tizian_Dagner.ipynb\" target=\"_parent\"><img src=\"https://colab.research.google.com/assets/colab-badge.svg\" alt=\"Open In Colab\"/></a>"
      ]
    },
    {
      "cell_type": "markdown",
      "metadata": {
        "id": "HRInq5gOmSuC"
      },
      "source": [
        "# NYC fare prediction\n",
        "\n",
        "<img src=\"https://upload.wikimedia.org/wikipedia/commons/3/35/New_York_Taxi.JPG\" alt=\"taxi\" style=\"width:400px;height:250px;\">\n",
        "\n",
        "Kaggle Score: 3.01618 <br>\n",
        "Kaggle Name: tizdag <br>\n",
        "Kaggle ID: 5124789 <br>\n",
        "Leaderboard position: 247 (theoretical placement, competition already finished) <br>\n",
        "\n",
        "Cooperation with: Alexander Sperka\n",
        "\n",
        "This notebook shows my approach for predicting the fare amount for a taxi ride in NYC when given the pickup and dropoff locations of the passangers regarding the [New York City Taxi Fare Prediction Challange]( https://www.kaggle.com/c/new-york-city-taxi-fare-prediction).\n",
        "\n",
        "\n",
        "\n",
        "---\n",
        "\n",
        "This notebook is seperated into different sections, relating to the common data science workflow (except the hypothesis and data collection where already done).\n",
        "\n",
        "\n",
        "0.   Previous Commits\n",
        "1.   Setup and Check Infrastructure\n",
        "2.   Having a first look at the Data (EDA)\n",
        "3.   Data Cleaning (Feature Engineering)\n",
        "4.   Functions for all models\n",
        "5.   Comparing CPU and GPU Linear Regression\n",
        "6.   K-Nearest Neighbors Regression GPU\n",
        "7.   Comparing CPU and GPU Random Forest\n",
        "8.   Comparing CPU and GPU Ridge Regression\n",
        "9.   XGBoost running on GPU\n",
        "10.  XGBoost CPU\n",
        "11.  LGBM model setup (not executable on Kaggle)\n",
        "12.  Evaluation and Discussion\n",
        "\n",
        "---\n",
        "\n",
        "\n"
      ]
    },
    {
      "cell_type": "markdown",
      "metadata": {
        "id": "fVXtwXAHLD44"
      },
      "source": [
        "# 0. Previous Commits - Comparison of different Models:\n",
        "\n"
      ]
    },
    {
      "cell_type": "markdown",
      "metadata": {
        "id": "-fEoMZTsLSd7"
      },
      "source": [
        "Predictions are done when using the whole data set\n",
        "\n",
        "### Linear Regression\n",
        "\n",
        "**Commit 1 (Baseline) Score: 4.56121**\n",
        "- fit_intercept=True\n",
        "- normalize=False,\n",
        "- n_jobs=-1\n",
        "- data_size = 5.5 Mio rows (1 %)\n",
        "\n",
        "### K-Nearest Neighbor \n",
        "**Commit 2 Score: 4.87676**\n",
        "  - n_neighbors = 4\n",
        "  - data_size = 5.5 Mio rows (1 %)\n",
        "\n",
        "### Random Forest \n",
        "**Commit 3 Score: 5.63070**\n",
        "  - n_estimators=10\n",
        "  - max_depth=16\n",
        "  - n_jobs=-1\n",
        "  - data_size = 5.5 Mio rows (1 %)\n",
        "  \n",
        "### XGBoost\n",
        "**Commit 4 Score: 3.01618**\n",
        "- MAX_TREE_DEPTH = 12\n",
        "- MIN_CHILD_WEIGHT = 2\n",
        "- TREE_METHOD = \"hist\"\n",
        "- ITERATIONS = 300\n",
        "- SUBSAMPLE = 0.9\n",
        "- REGULARIZATION = 1.4\n",
        "- GAMMA = 0.4 \n",
        "- POS_WEIGHT = 0.8\n",
        "- EARLY_STOP = 20\n",
        "- N_ESTIMATORS = 1000\n",
        "- LEARNING = 0.15 \n",
        "- data_size = 40.0 Mio rows (~70%)\n",
        "\n"
      ]
    },
    {
      "cell_type": "markdown",
      "metadata": {
        "id": "m_g3Zj-nHUeR"
      },
      "source": [
        "# 1. Setup and Check Infrastructure"
      ]
    },
    {
      "cell_type": "code",
      "metadata": {
        "id": "qKBQtZzV2zNL",
        "trusted": true
      },
      "source": [
        "## Switch from Kaggle to Colab easily\n",
        "environment='Kaggle'\n",
        "\n",
        "## when True only 50.000 rows are used for debugging purpose. Set to False when doing real training\n",
        "debug_mode=False\n",
        "\n",
        "## choose how many rows of the training data sample you would like to use (only works when debug_mode=False ), max is 40.000.000\n",
        "rows_datasample=500000"
      ],
      "execution_count": null,
      "outputs": []
    },
    {
      "cell_type": "code",
      "metadata": {
        "id": "lF1XfHZiw0-e",
        "trusted": true,
        "outputId": "161a0937-3360-4902-9617-3f157c923074"
      },
      "source": [
        "if environment == 'Kaggle':\n",
        "  env_submission_path='./'\n",
        "  env_path='../input/new-york-city-taxi-fare-prediction/'\n",
        "  print('The environment and paths were successfully setup for Kaggle')\n",
        "elif environment == 'Colab':\n",
        "  env_submission_path='/content/drive/My Drive/Colab Notebooks/'\n",
        "  env_path='/content/drive/My Drive/Colab Notebooks/'\n",
        "\n",
        "  from google.colab import drive\n",
        "  drive.mount('/content/drive')\n",
        "\n",
        "  print('The environment and paths were successfully setup for Colab')\n",
        "\n",
        "else:\n",
        "  print('Something went wrong here, please choose one of the options for path completion: Kaggle or Colab (or implement your own thing)')\n"
      ],
      "execution_count": null,
      "outputs": [
        {
          "output_type": "stream",
          "text": [
            "The environment and paths were successfully setup for Kaggle\n"
          ],
          "name": "stdout"
        }
      ]
    },
    {
      "cell_type": "markdown",
      "metadata": {
        "id": "-Ri5Sq2eHPp7"
      },
      "source": [
        "Check for GPU and CPU"
      ]
    },
    {
      "cell_type": "code",
      "metadata": {
        "id": "Ix7egkMuVbLC",
        "trusted": true,
        "outputId": "3dfb16be-378e-4426-d520-6ac7733fe93c"
      },
      "source": [
        "!nvidia-smi"
      ],
      "execution_count": null,
      "outputs": [
        {
          "output_type": "stream",
          "text": [
            "Wed Sep 30 15:06:45 2020       \r\n",
            "+-----------------------------------------------------------------------------+\r\n",
            "| NVIDIA-SMI 418.67       Driver Version: 418.67       CUDA Version: 10.1     |\r\n",
            "|-------------------------------+----------------------+----------------------+\r\n",
            "| GPU  Name        Persistence-M| Bus-Id        Disp.A | Volatile Uncorr. ECC |\r\n",
            "| Fan  Temp  Perf  Pwr:Usage/Cap|         Memory-Usage | GPU-Util  Compute M. |\r\n",
            "|===============================+======================+======================|\r\n",
            "|   0  Tesla P100-PCIE...  Off  | 00000000:00:04.0 Off |                    0 |\r\n",
            "| N/A   38C    P0    27W / 250W |      0MiB / 16280MiB |      0%      Default |\r\n",
            "+-------------------------------+----------------------+----------------------+\r\n",
            "                                                                               \r\n",
            "+-----------------------------------------------------------------------------+\r\n",
            "| Processes:                                                       GPU Memory |\r\n",
            "|  GPU       PID   Type   Process name                             Usage      |\r\n",
            "|=============================================================================|\r\n",
            "|  No running processes found                                                 |\r\n",
            "+-----------------------------------------------------------------------------+\r\n"
          ],
          "name": "stdout"
        }
      ]
    },
    {
      "cell_type": "code",
      "metadata": {
        "trusted": true,
        "id": "vsVV5DS5ruyK",
        "outputId": "6b3ccfb8-7acc-4d26-f772-e9413320d2a4"
      },
      "source": [
        "!lscpu | grep \"Model name:\"\n",
        "!lscpu | grep \"CPU(s)\""
      ],
      "execution_count": null,
      "outputs": [
        {
          "output_type": "stream",
          "text": [
            "Model name:          Intel(R) Xeon(R) CPU @ 2.00GHz\n",
            "CPU(s):              2\n",
            "On-line CPU(s) list: 0,1\n",
            "NUMA node0 CPU(s):   0,1\n"
          ],
          "name": "stdout"
        }
      ]
    },
    {
      "cell_type": "code",
      "metadata": {
        "id": "SY8-qcVuVguX",
        "trusted": true,
        "outputId": "6743ff8e-ccd5-4950-d771-bf9f529fb892"
      },
      "source": [
        "if environment == 'Kaggle':\n",
        "  import sys\n",
        "  !cp ../input/rapids/rapids.0.14.0 /opt/conda/envs/rapids.tar.gz\n",
        "  !cd /opt/conda/envs/ && tar -xzvf rapids.tar.gz > /dev/null\n",
        "  sys.path = [\"/opt/conda/envs/rapids/lib/python3.7/site-packages\"] + sys.path\n",
        "  sys.path = [\"/opt/conda/envs/rapids/lib/python3.7\"] + sys.path\n",
        "  sys.path = [\"/opt/conda/envs/rapids/lib\"] + sys.path \n",
        "  !cp /opt/conda/envs/rapids/lib/libxgboost.so /opt/conda/lib/\n",
        "  print('You are all set for the kaggle rapids environment')\n",
        "\n",
        "elif environment == 'Colab':\n",
        "  # Install RAPIDS and Dask_ml\n",
        "  !pip install dask_ml\n",
        "  !pip install dask_cuda\n",
        "\n",
        "  !git clone https://github.com/rapidsai/rapidsai-csp-utils.git\n",
        "  !bash rapidsai-csp-utils/colab/rapids-colab.sh stable\n",
        "\n",
        "\n",
        "  import sys, os\n",
        "\n",
        "  dist_package_index = sys.path.index('/usr/local/lib/python3.6/dist-packages')\n",
        "  sys.path = sys.path[:dist_package_index] + ['/usr/local/lib/python3.6/site-packages'] + sys.path[dist_package_index:]\n",
        "  sys.path\n",
        "  exec(open('rapidsai-csp-utils/colab/update_modules.py').read(), globals())\n",
        "    \n",
        "  print('You are all set for the colab rapids environment')\n",
        "\n",
        "else:\n",
        "  print('Something went wrong here, please choose one of the options for path completion: Kaggle or Colab (or implement your own thing). If Kaggle failed please make sure you added the RAPIDS file on Kaggle to your Input!')"
      ],
      "execution_count": null,
      "outputs": [
        {
          "output_type": "stream",
          "text": [
            "You are all set for the kaggle rapids environment\n"
          ],
          "name": "stdout"
        }
      ]
    },
    {
      "cell_type": "code",
      "metadata": {
        "id": "BTWeyn2qYyl5",
        "trusted": true,
        "outputId": "60a5b30e-ea6a-4b5d-edcd-57f549504285"
      },
      "source": [
        "import nvstrings\n",
        "import numpy as np\n",
        "import cudf, cuml\n",
        "import dask_cudf\n",
        "import io, requests\n",
        "import math\n",
        "import gc\n",
        "import cupy as cp\n",
        "import pandas as pd\n",
        "\n",
        "#Plotting\n",
        "import matplotlib.pyplot as plt\n",
        "import seaborn as sns \n",
        "\n",
        "#Learning\n",
        "from cuml.preprocessing.model_selection import train_test_split\n",
        "from scipy.stats import uniform\n",
        "\n",
        "#Models https://github.com/rapidsai/cuml/tree/branch-0.13/notebooks\n",
        "from cuml.linear_model import LinearRegression # Linear\n",
        "from cuml.linear_model import LogisticRegression # Logisitc\n",
        "from cuml.linear_model import Ridge # Ridge\n",
        "\n",
        "from cuml.solvers import SGD as cumlSGD # Stochastic Gradient Descent\n",
        "from cuml.ensemble import RandomForestRegressor as cuRF # Random Forest\n",
        "from cuml.dask.ensemble import RandomForestClassifier as cumlDaskRF # RandomForest\n",
        "\n",
        "from cuml.neighbors import KNeighborsRegressor as cumlKNR # Nearest Neighbours\n",
        "\n",
        "from cuml import ForestInference\n",
        "import xgboost as xgb\n",
        "from xgboost import XGBClassifier\n",
        "\n",
        "from sklearn.model_selection import RandomizedSearchCV\n",
        "from sklearn.model_selection import GridSearchCV\n",
        "\n",
        "from cuml.metrics.regression import r2_score\n",
        "from cuml.metrics.accuracy import accuracy_score\n",
        "from sklearn.metrics import make_scorer\n",
        "from sklearn.metrics import accuracy_score as sk_acc\n",
        "from sklearn.utils.fixes import loguniform"
      ],
      "execution_count": null,
      "outputs": [
        {
          "output_type": "stream",
          "text": [
            "/opt/conda/lib/python3.7/site-packages/ipykernel_launcher.py:1: DeprecationWarning: nvstrings will be removed in 0.15. Please use equivalent from libcudf\n",
            "  \"\"\"Entry point for launching an IPython kernel.\n"
          ],
          "name": "stderr"
        }
      ]
    },
    {
      "cell_type": "markdown",
      "metadata": {
        "id": "ysZh0eaaHZT4"
      },
      "source": [
        "# 2. First look at the Data"
      ]
    },
    {
      "cell_type": "code",
      "metadata": {
        "id": "N9AE7Djfw8uN",
        "trusted": true
      },
      "source": [
        "cudf.set_allocator(\"managed\")\n",
        "dtype = {\n",
        "            'fare_amount': 'float32',\n",
        "            'pickup_datetime':'str',\n",
        "            'pickup_longitude': 'float32',\n",
        "            'pickup_latitude': 'float32',\n",
        "            'dropoff_longitude': 'float32',\n",
        "            'dropoff_latitude': 'float32',\n",
        "            'passenger_count': 'int8',\n",
        "            'key':'str'\n",
        "        }\n",
        "\n",
        "usecols = list(dtype.keys())"
      ],
      "execution_count": null,
      "outputs": []
    },
    {
      "cell_type": "code",
      "metadata": {
        "id": "VlQ0urKVpLfB",
        "trusted": true,
        "outputId": "33728a81-8e0f-4633-d0ba-a46e59d41281"
      },
      "source": [
        "%%time\n",
        "# use a subset with 50.000 rows, max is nrows = 12.542.348\n",
        "\n",
        "if debug_mode != True:\n",
        "  ## using 1% (or how much you like)\n",
        "  nrows=rows_datasample\n",
        "else:\n",
        "  ## using a very small sample just for testing\n",
        "  nrows = 50000\n",
        "\n",
        "test = cudf.read_csv(env_path+'test.csv', usecols=usecols, dtype=dtype)\n",
        "train = cudf.read_csv(env_path+'train.csv', nrows=nrows, usecols=usecols, dtype=dtype)\n",
        "submission = cudf.read_csv(env_path+'sample_submission.csv', usecols=usecols, dtype=dtype)"
      ],
      "execution_count": null,
      "outputs": [
        {
          "output_type": "stream",
          "text": [
            "CPU times: user 1.09 s, sys: 546 ms, total: 1.64 s\n",
            "Wall time: 1.92 s\n"
          ],
          "name": "stdout"
        }
      ]
    },
    {
      "cell_type": "code",
      "metadata": {
        "id": "Eij2FPF2vuTF",
        "trusted": true,
        "outputId": "f78f4b9f-1c1a-485a-ea91-8a87600f9d1d"
      },
      "source": [
        "train.head(5)"
      ],
      "execution_count": null,
      "outputs": [
        {
          "output_type": "execute_result",
          "data": {
            "text/plain": [
              "                             key  fare_amount          pickup_datetime  \\\n",
              "0    2009-06-15 17:26:21.0000001          4.5  2009-06-15 17:26:21 UTC   \n",
              "1    2010-01-05 16:52:16.0000002         16.9  2010-01-05 16:52:16 UTC   \n",
              "2   2011-08-18 00:35:00.00000049          5.7  2011-08-18 00:35:00 UTC   \n",
              "3    2012-04-21 04:30:42.0000001          7.7  2012-04-21 04:30:42 UTC   \n",
              "4  2010-03-09 07:51:00.000000135          5.3  2010-03-09 07:51:00 UTC   \n",
              "\n",
              "   pickup_longitude  pickup_latitude  dropoff_longitude  dropoff_latitude  \\\n",
              "0        -73.844307        40.721321         -73.841614         40.712273   \n",
              "1        -74.016045        40.711304         -73.979271         40.782005   \n",
              "2        -73.982742        40.761269         -73.991234         40.750565   \n",
              "3        -73.987137        40.733139         -73.991570         40.758095   \n",
              "4        -73.968102        40.768009         -73.956665         40.783768   \n",
              "\n",
              "   passenger_count  \n",
              "0                1  \n",
              "1                1  \n",
              "2                2  \n",
              "3                1  \n",
              "4                1  "
            ],
            "text/html": [
              "<div>\n",
              "<style scoped>\n",
              "    .dataframe tbody tr th:only-of-type {\n",
              "        vertical-align: middle;\n",
              "    }\n",
              "\n",
              "    .dataframe tbody tr th {\n",
              "        vertical-align: top;\n",
              "    }\n",
              "\n",
              "    .dataframe thead th {\n",
              "        text-align: right;\n",
              "    }\n",
              "</style>\n",
              "<table border=\"1\" class=\"dataframe\">\n",
              "  <thead>\n",
              "    <tr style=\"text-align: right;\">\n",
              "      <th></th>\n",
              "      <th>key</th>\n",
              "      <th>fare_amount</th>\n",
              "      <th>pickup_datetime</th>\n",
              "      <th>pickup_longitude</th>\n",
              "      <th>pickup_latitude</th>\n",
              "      <th>dropoff_longitude</th>\n",
              "      <th>dropoff_latitude</th>\n",
              "      <th>passenger_count</th>\n",
              "    </tr>\n",
              "  </thead>\n",
              "  <tbody>\n",
              "    <tr>\n",
              "      <th>0</th>\n",
              "      <td>2009-06-15 17:26:21.0000001</td>\n",
              "      <td>4.5</td>\n",
              "      <td>2009-06-15 17:26:21 UTC</td>\n",
              "      <td>-73.844307</td>\n",
              "      <td>40.721321</td>\n",
              "      <td>-73.841614</td>\n",
              "      <td>40.712273</td>\n",
              "      <td>1</td>\n",
              "    </tr>\n",
              "    <tr>\n",
              "      <th>1</th>\n",
              "      <td>2010-01-05 16:52:16.0000002</td>\n",
              "      <td>16.9</td>\n",
              "      <td>2010-01-05 16:52:16 UTC</td>\n",
              "      <td>-74.016045</td>\n",
              "      <td>40.711304</td>\n",
              "      <td>-73.979271</td>\n",
              "      <td>40.782005</td>\n",
              "      <td>1</td>\n",
              "    </tr>\n",
              "    <tr>\n",
              "      <th>2</th>\n",
              "      <td>2011-08-18 00:35:00.00000049</td>\n",
              "      <td>5.7</td>\n",
              "      <td>2011-08-18 00:35:00 UTC</td>\n",
              "      <td>-73.982742</td>\n",
              "      <td>40.761269</td>\n",
              "      <td>-73.991234</td>\n",
              "      <td>40.750565</td>\n",
              "      <td>2</td>\n",
              "    </tr>\n",
              "    <tr>\n",
              "      <th>3</th>\n",
              "      <td>2012-04-21 04:30:42.0000001</td>\n",
              "      <td>7.7</td>\n",
              "      <td>2012-04-21 04:30:42 UTC</td>\n",
              "      <td>-73.987137</td>\n",
              "      <td>40.733139</td>\n",
              "      <td>-73.991570</td>\n",
              "      <td>40.758095</td>\n",
              "      <td>1</td>\n",
              "    </tr>\n",
              "    <tr>\n",
              "      <th>4</th>\n",
              "      <td>2010-03-09 07:51:00.000000135</td>\n",
              "      <td>5.3</td>\n",
              "      <td>2010-03-09 07:51:00 UTC</td>\n",
              "      <td>-73.968102</td>\n",
              "      <td>40.768009</td>\n",
              "      <td>-73.956665</td>\n",
              "      <td>40.783768</td>\n",
              "      <td>1</td>\n",
              "    </tr>\n",
              "  </tbody>\n",
              "</table>\n",
              "</div>"
            ]
          },
          "metadata": {
            "tags": []
          },
          "execution_count": 13
        }
      ]
    },
    {
      "cell_type": "code",
      "metadata": {
        "id": "T5631wMlv9FY",
        "trusted": true,
        "outputId": "4c473f87-05c7-493a-8c74-6f48254eb7bf"
      },
      "source": [
        "test.head(5)"
      ],
      "execution_count": null,
      "outputs": [
        {
          "output_type": "execute_result",
          "data": {
            "text/plain": [
              "                           key          pickup_datetime  pickup_longitude  \\\n",
              "0  2015-01-27 13:08:24.0000002  2015-01-27 13:08:24 UTC        -73.973320   \n",
              "1  2015-01-27 13:08:24.0000003  2015-01-27 13:08:24 UTC        -73.986862   \n",
              "2  2011-10-08 11:53:44.0000002  2011-10-08 11:53:44 UTC        -73.982536   \n",
              "3  2012-12-01 21:12:12.0000002  2012-12-01 21:12:12 UTC        -73.981163   \n",
              "4  2012-12-01 21:12:12.0000003  2012-12-01 21:12:12 UTC        -73.966042   \n",
              "\n",
              "   pickup_latitude  dropoff_longitude  dropoff_latitude  passenger_count  \n",
              "0        40.763805         -73.981430         40.743835                1  \n",
              "1        40.719383         -73.998886         40.739197                1  \n",
              "2        40.751259         -73.979668         40.746140                1  \n",
              "3        40.767811         -73.990440         40.751633                1  \n",
              "4        40.789776         -73.988579         40.744431                1  "
            ],
            "text/html": [
              "<div>\n",
              "<style scoped>\n",
              "    .dataframe tbody tr th:only-of-type {\n",
              "        vertical-align: middle;\n",
              "    }\n",
              "\n",
              "    .dataframe tbody tr th {\n",
              "        vertical-align: top;\n",
              "    }\n",
              "\n",
              "    .dataframe thead th {\n",
              "        text-align: right;\n",
              "    }\n",
              "</style>\n",
              "<table border=\"1\" class=\"dataframe\">\n",
              "  <thead>\n",
              "    <tr style=\"text-align: right;\">\n",
              "      <th></th>\n",
              "      <th>key</th>\n",
              "      <th>pickup_datetime</th>\n",
              "      <th>pickup_longitude</th>\n",
              "      <th>pickup_latitude</th>\n",
              "      <th>dropoff_longitude</th>\n",
              "      <th>dropoff_latitude</th>\n",
              "      <th>passenger_count</th>\n",
              "    </tr>\n",
              "  </thead>\n",
              "  <tbody>\n",
              "    <tr>\n",
              "      <th>0</th>\n",
              "      <td>2015-01-27 13:08:24.0000002</td>\n",
              "      <td>2015-01-27 13:08:24 UTC</td>\n",
              "      <td>-73.973320</td>\n",
              "      <td>40.763805</td>\n",
              "      <td>-73.981430</td>\n",
              "      <td>40.743835</td>\n",
              "      <td>1</td>\n",
              "    </tr>\n",
              "    <tr>\n",
              "      <th>1</th>\n",
              "      <td>2015-01-27 13:08:24.0000003</td>\n",
              "      <td>2015-01-27 13:08:24 UTC</td>\n",
              "      <td>-73.986862</td>\n",
              "      <td>40.719383</td>\n",
              "      <td>-73.998886</td>\n",
              "      <td>40.739197</td>\n",
              "      <td>1</td>\n",
              "    </tr>\n",
              "    <tr>\n",
              "      <th>2</th>\n",
              "      <td>2011-10-08 11:53:44.0000002</td>\n",
              "      <td>2011-10-08 11:53:44 UTC</td>\n",
              "      <td>-73.982536</td>\n",
              "      <td>40.751259</td>\n",
              "      <td>-73.979668</td>\n",
              "      <td>40.746140</td>\n",
              "      <td>1</td>\n",
              "    </tr>\n",
              "    <tr>\n",
              "      <th>3</th>\n",
              "      <td>2012-12-01 21:12:12.0000002</td>\n",
              "      <td>2012-12-01 21:12:12 UTC</td>\n",
              "      <td>-73.981163</td>\n",
              "      <td>40.767811</td>\n",
              "      <td>-73.990440</td>\n",
              "      <td>40.751633</td>\n",
              "      <td>1</td>\n",
              "    </tr>\n",
              "    <tr>\n",
              "      <th>4</th>\n",
              "      <td>2012-12-01 21:12:12.0000003</td>\n",
              "      <td>2012-12-01 21:12:12 UTC</td>\n",
              "      <td>-73.966042</td>\n",
              "      <td>40.789776</td>\n",
              "      <td>-73.988579</td>\n",
              "      <td>40.744431</td>\n",
              "      <td>1</td>\n",
              "    </tr>\n",
              "  </tbody>\n",
              "</table>\n",
              "</div>"
            ]
          },
          "metadata": {
            "tags": []
          },
          "execution_count": 14
        }
      ]
    },
    {
      "cell_type": "markdown",
      "metadata": {
        "id": "o_WXW01AHlC4"
      },
      "source": [
        "# 3. Data Cleaning"
      ]
    },
    {
      "cell_type": "code",
      "metadata": {
        "id": "6Ka9ezhECWv0",
        "trusted": true
      },
      "source": [
        "#Drop Nan Values\n",
        "#train.nans_to_nulls()\n",
        "train = train.dropna()\n",
        "test = test.dropna()"
      ],
      "execution_count": null,
      "outputs": []
    },
    {
      "cell_type": "code",
      "metadata": {
        "id": "J3ZMKboWCGD1",
        "trusted": true,
        "outputId": "735b84ec-bcda-4ed8-edc9-1c07530a9c7d"
      },
      "source": [
        "#Checking shape of the data\n",
        "print(\"Train: \" + str(train.shape))\n",
        "print(\"Test: \" + str(test.shape))"
      ],
      "execution_count": null,
      "outputs": [
        {
          "output_type": "stream",
          "text": [
            "Train: (499995, 8)\n",
            "Test: (9914, 7)\n"
          ],
          "name": "stdout"
        }
      ]
    },
    {
      "cell_type": "markdown",
      "metadata": {
        "id": "n-eldQx9ruyx"
      },
      "source": [
        "It can be seen that 5 data sets had missing values. Due to the small percentage, these data sets can be removed in order not to falsify the result."
      ]
    },
    {
      "cell_type": "code",
      "metadata": {
        "id": "Xko9RCA4v_Hc",
        "trusted": true
      },
      "source": [
        "#Changing the data format of pickup_datetime and adding additional information about pickup time\n",
        "train['pickup_datetime'] = train['pickup_datetime'].astype('datetime64[ns]')\n",
        "\n",
        "#train[\"minute\"] = train.pickup_datetime.dt.minute\n",
        "train[\"hour\"] = train.pickup_datetime.dt.hour\n",
        "train[\"weekday\"] = train.pickup_datetime.dt.weekday\n",
        "train[\"month\"] = train.pickup_datetime.dt.month\n",
        "train[\"year\"] = train.pickup_datetime.dt.year\n",
        "\n",
        "\n",
        "test['pickup_datetime'] = test['pickup_datetime'].astype('datetime64[ns]')\n",
        "\n",
        "#test[\"minute\"] = test.pickup_datetime.dt.minute\n",
        "test[\"hour\"] = test.pickup_datetime.dt.hour\n",
        "test[\"weekday\"] = test.pickup_datetime.dt.weekday\n",
        "test[\"month\"] = test.pickup_datetime.dt.month\n",
        "test[\"year\"] = test.pickup_datetime.dt.year"
      ],
      "execution_count": null,
      "outputs": []
    },
    {
      "cell_type": "markdown",
      "metadata": {
        "id": "hUn2ljSMruy2"
      },
      "source": [
        "The existing key pickup_datetime is broken down into its components in this step. It consists of the parameters year, month, day, hour and minute. The attribute second is neglected in this consideration."
      ]
    },
    {
      "cell_type": "code",
      "metadata": {
        "id": "4iUREXQ5CEzn",
        "trusted": true
      },
      "source": [
        "#calculate trip distance in miles\n",
        "def distance(lat1, lon1, lat2, lon2):\n",
        "    p = 0.017453292519943295 # Pi/180\n",
        "    a = 0.5 - np.cos((lat2 - lat1) * p)/2 + np.cos(lat1 * p) * np.cos(lat2 * p) * (1 - np.cos((lon2 - lon1) * p)) / 2\n",
        "    return 0.6213712 * 12742 * np.arcsin(np.sqrt(a))"
      ],
      "execution_count": null,
      "outputs": []
    },
    {
      "cell_type": "markdown",
      "metadata": {
        "id": "YtizmpBcruy9"
      },
      "source": [
        "The distance of the driving distance is to be regarded as an elementary component. Since in the original ones only the coordinates of start and destination are given, a conversion of these is done. (https://www.kompf.de/gps/distcalc.html)"
      ]
    },
    {
      "cell_type": "code",
      "metadata": {
        "id": "ymO-WYlaCGS3",
        "trusted": true,
        "outputId": "f1568049-ffe7-412b-c277-efb8764a1128"
      },
      "source": [
        "train['distance'] = distance(train['pickup_latitude'], train['pickup_longitude'], train['dropoff_latitude'], train['dropoff_longitude'] )\n",
        "test['distance'] = distance(test['pickup_latitude'], test['pickup_longitude'], test['dropoff_latitude'], test['dropoff_longitude'] )\n",
        "train['distance'].describe()"
      ],
      "execution_count": null,
      "outputs": [
        {
          "output_type": "execute_result",
          "data": {
            "text/plain": [
              "count    499995.000000\n",
              "mean         11.894358\n",
              "std         228.239755\n",
              "min           0.000000\n",
              "25%           0.000000\n",
              "50%           1.366828\n",
              "75%           2.424684\n",
              "max        7704.968750\n",
              "Name: distance, dtype: float64"
            ]
          },
          "metadata": {
            "tags": []
          },
          "execution_count": 19
        }
      ]
    },
    {
      "cell_type": "code",
      "metadata": {
        "id": "oZliSrMSwyJW",
        "trusted": true,
        "outputId": "d03c38c6-c5ae-4ab1-d5f7-cd9b3367ce8f"
      },
      "source": [
        "#check if everything worked\n",
        "train.head(2)"
      ],
      "execution_count": null,
      "outputs": [
        {
          "output_type": "execute_result",
          "data": {
            "text/plain": [
              "                           key  fare_amount     pickup_datetime  \\\n",
              "0  2009-06-15 17:26:21.0000001          4.5 2009-06-15 17:26:21   \n",
              "1  2010-01-05 16:52:16.0000002         16.9 2010-01-05 16:52:16   \n",
              "\n",
              "   pickup_longitude  pickup_latitude  dropoff_longitude  dropoff_latitude  \\\n",
              "0        -73.844307        40.721321         -73.841614         40.712273   \n",
              "1        -74.016045        40.711304         -73.979271         40.782005   \n",
              "\n",
              "   passenger_count  hour  weekday  month  year  distance  \n",
              "0                1    17        0      6  2009  0.000000  \n",
              "1                1    16        1      1  2010  5.244397  "
            ],
            "text/html": [
              "<div>\n",
              "<style scoped>\n",
              "    .dataframe tbody tr th:only-of-type {\n",
              "        vertical-align: middle;\n",
              "    }\n",
              "\n",
              "    .dataframe tbody tr th {\n",
              "        vertical-align: top;\n",
              "    }\n",
              "\n",
              "    .dataframe thead th {\n",
              "        text-align: right;\n",
              "    }\n",
              "</style>\n",
              "<table border=\"1\" class=\"dataframe\">\n",
              "  <thead>\n",
              "    <tr style=\"text-align: right;\">\n",
              "      <th></th>\n",
              "      <th>key</th>\n",
              "      <th>fare_amount</th>\n",
              "      <th>pickup_datetime</th>\n",
              "      <th>pickup_longitude</th>\n",
              "      <th>pickup_latitude</th>\n",
              "      <th>dropoff_longitude</th>\n",
              "      <th>dropoff_latitude</th>\n",
              "      <th>passenger_count</th>\n",
              "      <th>hour</th>\n",
              "      <th>weekday</th>\n",
              "      <th>month</th>\n",
              "      <th>year</th>\n",
              "      <th>distance</th>\n",
              "    </tr>\n",
              "  </thead>\n",
              "  <tbody>\n",
              "    <tr>\n",
              "      <th>0</th>\n",
              "      <td>2009-06-15 17:26:21.0000001</td>\n",
              "      <td>4.5</td>\n",
              "      <td>2009-06-15 17:26:21</td>\n",
              "      <td>-73.844307</td>\n",
              "      <td>40.721321</td>\n",
              "      <td>-73.841614</td>\n",
              "      <td>40.712273</td>\n",
              "      <td>1</td>\n",
              "      <td>17</td>\n",
              "      <td>0</td>\n",
              "      <td>6</td>\n",
              "      <td>2009</td>\n",
              "      <td>0.000000</td>\n",
              "    </tr>\n",
              "    <tr>\n",
              "      <th>1</th>\n",
              "      <td>2010-01-05 16:52:16.0000002</td>\n",
              "      <td>16.9</td>\n",
              "      <td>2010-01-05 16:52:16</td>\n",
              "      <td>-74.016045</td>\n",
              "      <td>40.711304</td>\n",
              "      <td>-73.979271</td>\n",
              "      <td>40.782005</td>\n",
              "      <td>1</td>\n",
              "      <td>16</td>\n",
              "      <td>1</td>\n",
              "      <td>1</td>\n",
              "      <td>2010</td>\n",
              "      <td>5.244397</td>\n",
              "    </tr>\n",
              "  </tbody>\n",
              "</table>\n",
              "</div>"
            ]
          },
          "metadata": {
            "tags": []
          },
          "execution_count": 20
        }
      ]
    },
    {
      "cell_type": "code",
      "metadata": {
        "id": "9FpQJz9Zxxd2",
        "trusted": true,
        "outputId": "df125116-17a0-4350-a53a-9b197196e923"
      },
      "source": [
        "test.head(2)"
      ],
      "execution_count": null,
      "outputs": [
        {
          "output_type": "execute_result",
          "data": {
            "text/plain": [
              "                           key     pickup_datetime  pickup_longitude  \\\n",
              "0  2015-01-27 13:08:24.0000002 2015-01-27 13:08:24        -73.973320   \n",
              "1  2015-01-27 13:08:24.0000003 2015-01-27 13:08:24        -73.986862   \n",
              "\n",
              "   pickup_latitude  dropoff_longitude  dropoff_latitude  passenger_count  \\\n",
              "0        40.763805         -73.981430         40.743835                1   \n",
              "1        40.719383         -73.998886         40.739197                1   \n",
              "\n",
              "   hour  weekday  month  year  distance  \n",
              "0    13        1      1  2015  1.366828  \n",
              "1    13        1      1  2015  1.366828  "
            ],
            "text/html": [
              "<div>\n",
              "<style scoped>\n",
              "    .dataframe tbody tr th:only-of-type {\n",
              "        vertical-align: middle;\n",
              "    }\n",
              "\n",
              "    .dataframe tbody tr th {\n",
              "        vertical-align: top;\n",
              "    }\n",
              "\n",
              "    .dataframe thead th {\n",
              "        text-align: right;\n",
              "    }\n",
              "</style>\n",
              "<table border=\"1\" class=\"dataframe\">\n",
              "  <thead>\n",
              "    <tr style=\"text-align: right;\">\n",
              "      <th></th>\n",
              "      <th>key</th>\n",
              "      <th>pickup_datetime</th>\n",
              "      <th>pickup_longitude</th>\n",
              "      <th>pickup_latitude</th>\n",
              "      <th>dropoff_longitude</th>\n",
              "      <th>dropoff_latitude</th>\n",
              "      <th>passenger_count</th>\n",
              "      <th>hour</th>\n",
              "      <th>weekday</th>\n",
              "      <th>month</th>\n",
              "      <th>year</th>\n",
              "      <th>distance</th>\n",
              "    </tr>\n",
              "  </thead>\n",
              "  <tbody>\n",
              "    <tr>\n",
              "      <th>0</th>\n",
              "      <td>2015-01-27 13:08:24.0000002</td>\n",
              "      <td>2015-01-27 13:08:24</td>\n",
              "      <td>-73.973320</td>\n",
              "      <td>40.763805</td>\n",
              "      <td>-73.981430</td>\n",
              "      <td>40.743835</td>\n",
              "      <td>1</td>\n",
              "      <td>13</td>\n",
              "      <td>1</td>\n",
              "      <td>1</td>\n",
              "      <td>2015</td>\n",
              "      <td>1.366828</td>\n",
              "    </tr>\n",
              "    <tr>\n",
              "      <th>1</th>\n",
              "      <td>2015-01-27 13:08:24.0000003</td>\n",
              "      <td>2015-01-27 13:08:24</td>\n",
              "      <td>-73.986862</td>\n",
              "      <td>40.719383</td>\n",
              "      <td>-73.998886</td>\n",
              "      <td>40.739197</td>\n",
              "      <td>1</td>\n",
              "      <td>13</td>\n",
              "      <td>1</td>\n",
              "      <td>1</td>\n",
              "      <td>2015</td>\n",
              "      <td>1.366828</td>\n",
              "    </tr>\n",
              "  </tbody>\n",
              "</table>\n",
              "</div>"
            ]
          },
          "metadata": {
            "tags": []
          },
          "execution_count": 21
        }
      ]
    },
    {
      "cell_type": "code",
      "metadata": {
        "id": "CFYnmMIiDfyJ",
        "trusted": true,
        "outputId": "1400c7e4-d6a9-4753-834c-86b7ee7b3a10"
      },
      "source": [
        "print(\"Ararage fare amount: \" + str(train['fare_amount'].mean()))\n",
        "print(\"Standard deviation fare amount: \" + str(train['fare_amount'].std()))\n",
        "print(\"Ararage distance: \" + str(train['distance'].mean()) + \" miles\")\n",
        "print(\"Standard deviation distance: \" + str(train['distance'].std()) + \" miles\")"
      ],
      "execution_count": null,
      "outputs": [
        {
          "output_type": "stream",
          "text": [
            "Ararage fare amount: 11.358182056380917\n",
            "Standard deviation fare amount: 9.916069031491416\n",
            "Ararage distance: 11.894358346249913 miles\n",
            "Standard deviation distance: 228.2397549126703 miles\n"
          ],
          "name": "stdout"
        }
      ]
    },
    {
      "cell_type": "markdown",
      "metadata": {
        "id": "Dv9rG4D6ruzR"
      },
      "source": [
        "The average distance and fare amount are for orientation. Based on this, the quality of a model can be roughly evaluated. If the deviation of the model is within one standard deviation, it is possible to predict at least 68.27% of all values, assuming a Gaussian bell curve."
      ]
    },
    {
      "cell_type": "code",
      "metadata": {
        "id": "KB5A0x0iPBkA",
        "trusted": true,
        "outputId": "9b5cd099-c7c6-4d30-87e1-71c67cf2437b"
      },
      "source": [
        "train.describe()"
      ],
      "execution_count": null,
      "outputs": [
        {
          "output_type": "execute_result",
          "data": {
            "text/plain": [
              "         fare_amount  pickup_longitude  pickup_latitude  dropoff_longitude  \\\n",
              "count  499995.000000     499995.000000    499995.000000      499995.000000   \n",
              "mean       11.358182        -72.520092        39.920351         -72.522436   \n",
              "std         9.916069         11.856446         8.073318          11.797362   \n",
              "min       -44.900002      -2986.242188     -3116.285156       -3383.296631   \n",
              "25%         6.000000        -73.992043        40.734921         -73.991371   \n",
              "50%         8.500000        -73.981789        40.752666         -73.980133   \n",
              "75%        12.500000        -73.967117        40.767078         -73.963570   \n",
              "max       500.000000       2140.601074      1703.092773          40.851025   \n",
              "\n",
              "       dropoff_latitude  passenger_count           hour        weekday  \\\n",
              "count     499995.000000    499995.000000  499995.000000  499995.000000   \n",
              "mean          39.916526         1.683445      13.510843       3.042020   \n",
              "std            7.391003         1.307391       6.511596       1.949243   \n",
              "min        -2559.749023         0.000000       0.000000       0.000000   \n",
              "25%           40.734058         1.000000       9.000000       1.000000   \n",
              "50%           40.753151         1.000000      14.000000       3.000000   \n",
              "75%           40.768135         2.000000      19.000000       5.000000   \n",
              "max          404.616699         6.000000      23.000000       6.000000   \n",
              "\n",
              "               month           year       distance  \n",
              "count  499995.000000  499995.000000  499995.000000  \n",
              "mean        6.268617    2011.739129      11.894358  \n",
              "std         3.437798       1.860897     228.239755  \n",
              "min         1.000000    2009.000000       0.000000  \n",
              "25%         3.000000    2010.000000       0.000000  \n",
              "50%         6.000000    2012.000000       1.366828  \n",
              "75%         9.000000    2013.000000       2.424684  \n",
              "max        12.000000    2015.000000    7704.968750  "
            ],
            "text/html": [
              "<div>\n",
              "<style scoped>\n",
              "    .dataframe tbody tr th:only-of-type {\n",
              "        vertical-align: middle;\n",
              "    }\n",
              "\n",
              "    .dataframe tbody tr th {\n",
              "        vertical-align: top;\n",
              "    }\n",
              "\n",
              "    .dataframe thead th {\n",
              "        text-align: right;\n",
              "    }\n",
              "</style>\n",
              "<table border=\"1\" class=\"dataframe\">\n",
              "  <thead>\n",
              "    <tr style=\"text-align: right;\">\n",
              "      <th></th>\n",
              "      <th>fare_amount</th>\n",
              "      <th>pickup_longitude</th>\n",
              "      <th>pickup_latitude</th>\n",
              "      <th>dropoff_longitude</th>\n",
              "      <th>dropoff_latitude</th>\n",
              "      <th>passenger_count</th>\n",
              "      <th>hour</th>\n",
              "      <th>weekday</th>\n",
              "      <th>month</th>\n",
              "      <th>year</th>\n",
              "      <th>distance</th>\n",
              "    </tr>\n",
              "  </thead>\n",
              "  <tbody>\n",
              "    <tr>\n",
              "      <th>count</th>\n",
              "      <td>499995.000000</td>\n",
              "      <td>499995.000000</td>\n",
              "      <td>499995.000000</td>\n",
              "      <td>499995.000000</td>\n",
              "      <td>499995.000000</td>\n",
              "      <td>499995.000000</td>\n",
              "      <td>499995.000000</td>\n",
              "      <td>499995.000000</td>\n",
              "      <td>499995.000000</td>\n",
              "      <td>499995.000000</td>\n",
              "      <td>499995.000000</td>\n",
              "    </tr>\n",
              "    <tr>\n",
              "      <th>mean</th>\n",
              "      <td>11.358182</td>\n",
              "      <td>-72.520092</td>\n",
              "      <td>39.920351</td>\n",
              "      <td>-72.522436</td>\n",
              "      <td>39.916526</td>\n",
              "      <td>1.683445</td>\n",
              "      <td>13.510843</td>\n",
              "      <td>3.042020</td>\n",
              "      <td>6.268617</td>\n",
              "      <td>2011.739129</td>\n",
              "      <td>11.894358</td>\n",
              "    </tr>\n",
              "    <tr>\n",
              "      <th>std</th>\n",
              "      <td>9.916069</td>\n",
              "      <td>11.856446</td>\n",
              "      <td>8.073318</td>\n",
              "      <td>11.797362</td>\n",
              "      <td>7.391003</td>\n",
              "      <td>1.307391</td>\n",
              "      <td>6.511596</td>\n",
              "      <td>1.949243</td>\n",
              "      <td>3.437798</td>\n",
              "      <td>1.860897</td>\n",
              "      <td>228.239755</td>\n",
              "    </tr>\n",
              "    <tr>\n",
              "      <th>min</th>\n",
              "      <td>-44.900002</td>\n",
              "      <td>-2986.242188</td>\n",
              "      <td>-3116.285156</td>\n",
              "      <td>-3383.296631</td>\n",
              "      <td>-2559.749023</td>\n",
              "      <td>0.000000</td>\n",
              "      <td>0.000000</td>\n",
              "      <td>0.000000</td>\n",
              "      <td>1.000000</td>\n",
              "      <td>2009.000000</td>\n",
              "      <td>0.000000</td>\n",
              "    </tr>\n",
              "    <tr>\n",
              "      <th>25%</th>\n",
              "      <td>6.000000</td>\n",
              "      <td>-73.992043</td>\n",
              "      <td>40.734921</td>\n",
              "      <td>-73.991371</td>\n",
              "      <td>40.734058</td>\n",
              "      <td>1.000000</td>\n",
              "      <td>9.000000</td>\n",
              "      <td>1.000000</td>\n",
              "      <td>3.000000</td>\n",
              "      <td>2010.000000</td>\n",
              "      <td>0.000000</td>\n",
              "    </tr>\n",
              "    <tr>\n",
              "      <th>50%</th>\n",
              "      <td>8.500000</td>\n",
              "      <td>-73.981789</td>\n",
              "      <td>40.752666</td>\n",
              "      <td>-73.980133</td>\n",
              "      <td>40.753151</td>\n",
              "      <td>1.000000</td>\n",
              "      <td>14.000000</td>\n",
              "      <td>3.000000</td>\n",
              "      <td>6.000000</td>\n",
              "      <td>2012.000000</td>\n",
              "      <td>1.366828</td>\n",
              "    </tr>\n",
              "    <tr>\n",
              "      <th>75%</th>\n",
              "      <td>12.500000</td>\n",
              "      <td>-73.967117</td>\n",
              "      <td>40.767078</td>\n",
              "      <td>-73.963570</td>\n",
              "      <td>40.768135</td>\n",
              "      <td>2.000000</td>\n",
              "      <td>19.000000</td>\n",
              "      <td>5.000000</td>\n",
              "      <td>9.000000</td>\n",
              "      <td>2013.000000</td>\n",
              "      <td>2.424684</td>\n",
              "    </tr>\n",
              "    <tr>\n",
              "      <th>max</th>\n",
              "      <td>500.000000</td>\n",
              "      <td>2140.601074</td>\n",
              "      <td>1703.092773</td>\n",
              "      <td>40.851025</td>\n",
              "      <td>404.616699</td>\n",
              "      <td>6.000000</td>\n",
              "      <td>23.000000</td>\n",
              "      <td>6.000000</td>\n",
              "      <td>12.000000</td>\n",
              "      <td>2015.000000</td>\n",
              "      <td>7704.968750</td>\n",
              "    </tr>\n",
              "  </tbody>\n",
              "</table>\n",
              "</div>"
            ]
          },
          "metadata": {
            "tags": []
          },
          "execution_count": 23
        }
      ]
    },
    {
      "cell_type": "code",
      "metadata": {
        "trusted": true,
        "id": "CnGvGjvBr-o3",
        "outputId": "93b85a6e-e849-4508-a82b-b94a02a9a23f"
      },
      "source": [
        "print(\"Maximum distance Test: \" + str(test['distance'].max()))\n",
        "print(\"Maximum passenger Test: \" + str(test['passenger_count'].max()))"
      ],
      "execution_count": null,
      "outputs": [
        {
          "output_type": "stream",
          "text": [
            "Maximum distance Test: 62.140335\n",
            "Maximum passenger Test: 6\n"
          ],
          "name": "stdout"
        }
      ]
    },
    {
      "cell_type": "markdown",
      "metadata": {
        "id": "2F3ZtZtgCt87"
      },
      "source": [
        "Visualization of the data <br>\n",
        "\n",
        "The following things were noticed (while using 5.5mio datapoints):\n",
        "*   The minimal fare_amount is negative. As this does not seem to be realistic I will drop them from the dataset.\n",
        "*   Some of the minimum and maximum longitude/lattitude coordinates are way off. These  will also be remove from the dataset. (bounding box will be defined)\n",
        "*   The average fare_amount is about 11.35 USD with a standard deviation of 9.91 USD. When building a predictive model we want to be better than 9.81 USD and no negative values should be part of the result\n",
        "*   The maximum distance in the test set is 62 miles, so all longer distances in the training set will be removed.\n",
        "*   The maximum number of persons in the test set is 6. Rides in the training set with more people are also removed.\n",
        "\n",
        "\n"
      ]
    },
    {
      "cell_type": "code",
      "metadata": {
        "id": "T-Wu8kZoB-0s",
        "trusted": true
      },
      "source": [
        "train = train[train.fare_amount>=0]\n",
        "train = train[(train['distance'] < 70) & (train['distance'] >=0 )]\n",
        "train = train[(train['passenger_count'] < 6)]"
      ],
      "execution_count": null,
      "outputs": []
    },
    {
      "cell_type": "code",
      "metadata": {
        "id": "FbRMvKZOr8pp",
        "trusted": true
      },
      "source": [
        "#This parameter had a not negligible influence on the prediction. Therefore it was also part of the optimization.\n",
        "train = train[(train['fare_amount'] < 250)] "
      ],
      "execution_count": null,
      "outputs": []
    },
    {
      "cell_type": "code",
      "metadata": {
        "id": "u7Bp_uZoGIqU",
        "trusted": true
      },
      "source": [
        "fare_amount = train['fare_amount'].to_array()\n",
        "passenger_count = train['passenger_count'].to_array()\n",
        "distance = train['distance'].to_array()\n",
        "year = train['year'].to_array()\n",
        "month = train['month'].to_array()\n",
        "day = train['weekday'].to_array()\n",
        "hour = train['hour'].to_array()"
      ],
      "execution_count": null,
      "outputs": []
    },
    {
      "cell_type": "code",
      "metadata": {
        "id": "4JcWhshbET0g",
        "trusted": true,
        "outputId": "eb694415-3eb4-4ed6-e17d-0b677516c1ff"
      },
      "source": [
        "plt.figure(figsize=(8,5))\n",
        "sns.kdeplot(fare_amount).set_title(\"Verteilung des Fahrpreises\")"
      ],
      "execution_count": null,
      "outputs": [
        {
          "output_type": "execute_result",
          "data": {
            "text/plain": [
              "Text(0.5, 1.0, 'Verteilung des Fahrpreises')"
            ]
          },
          "metadata": {
            "tags": []
          },
          "execution_count": 28
        },
        {
          "output_type": "display_data",
          "data": {
            "text/plain": [
              "<Figure size 576x360 with 1 Axes>"
            ],
            "image/png": "[encoded data removed]"
          },
          "metadata": {
            "tags": [],
            "needs_background": "light"
          }
        }
      ]
    },
    {
      "cell_type": "markdown",
      "metadata": {
        "id": "mugtVWeGruzp"
      },
      "source": [
        "Some of the data sets show a fare of 0, the background for this is not known. Most of the data is in the single-digit or low two-digit range. There are some outliers that show fares of $1000 or more, these can be removed as well."
      ]
    },
    {
      "cell_type": "code",
      "metadata": {
        "id": "LQuUhTOR_xj2",
        "trusted": true,
        "outputId": "d31af56e-a079-4b53-98b9-320baf5ea7d4"
      },
      "source": [
        "plt.figure(figsize=(8,5))\n",
        "sns.kdeplot(distance).set_title(\"Distanz\")"
      ],
      "execution_count": null,
      "outputs": [
        {
          "output_type": "execute_result",
          "data": {
            "text/plain": [
              "Text(0.5, 1.0, 'Distanz')"
            ]
          },
          "metadata": {
            "tags": []
          },
          "execution_count": 29
        },
        {
          "output_type": "display_data",
          "data": {
            "text/plain": [
              "<Figure size 576x360 with 1 Axes>"
            ],
            "image/png": "[encoded data removed]"
          },
          "metadata": {
            "tags": [],
            "needs_background": "light"
          }
        }
      ]
    },
    {
      "cell_type": "markdown",
      "metadata": {
        "id": "6adToLkKruzw"
      },
      "source": [
        "Most of the driven routes show very short distances within New York with a maximum of 10 miles. At about 15 miles, there is an even greater frequency due to trips to the airports. A few long distances are over 50 miles, no reason is known."
      ]
    },
    {
      "cell_type": "code",
      "metadata": {
        "trusted": true,
        "id": "5Y8VVOKGruzx",
        "outputId": "7ea3a538-c9ec-4521-dbfd-cefb4a5951bd"
      },
      "source": [
        "train_plot = train.to_pandas()\n",
        "plt.figure(figsize=(8,5))\n",
        "sns.scatterplot(\n",
        "    data=train_plot, x=\"distance\", y=\"fare_amount\"\n",
        ")"
      ],
      "execution_count": null,
      "outputs": [
        {
          "output_type": "execute_result",
          "data": {
            "text/plain": [
              "<matplotlib.axes._subplots.AxesSubplot at 0x7fb4940a2d90>"
            ]
          },
          "metadata": {
            "tags": []
          },
          "execution_count": 30
        },
        {
          "output_type": "display_data",
          "data": {
            "text/plain": [
              "<Figure size 576x360 with 1 Axes>"
            ],
            "image/png": "[encoded data removed]"
          },
          "metadata": {
            "tags": [],
            "needs_background": "light"
          }
        }
      ]
    },
    {
      "cell_type": "markdown",
      "metadata": {
        "id": "eyAdyI33yCXi"
      },
      "source": [
        "The relationship between distance and price seems almost linear. However, some records exist with a distance of about 60 miles and relatively low prices. This could be due to fixed prices."
      ]
    },
    {
      "cell_type": "code",
      "metadata": {
        "trusted": true,
        "id": "TKMR3gIDyCXn",
        "outputId": "cea13a33-8a3d-4d2a-a93d-d2c7b798ee53"
      },
      "source": [
        "fig,(ax1,ax2,)=plt.subplots(1,2,figsize=(15,5))\n",
        "ax1.set_title('Year')\n",
        "sns.distplot(year, ax=ax1, color=\"y\")\n",
        "\n",
        "ax2.set_title('Month')\n",
        "sns.distplot(month, ax=ax2, color=\"y\")\n",
        "plt.show()\n",
        "\n",
        "fig,(ax1,ax2,)=plt.subplots(1,2,figsize=(15,5))\n",
        "ax1.set_title('Weekday')\n",
        "sns.distplot(day, ax=ax1, color=\"y\")\n",
        "\n",
        "ax2.set_title('Hours')\n",
        "sns.distplot(hour, ax=ax2, color=\"y\")\n",
        "plt.show()"
      ],
      "execution_count": null,
      "outputs": [
        {
          "output_type": "display_data",
          "data": {
            "text/plain": [
              "<Figure size 1080x360 with 2 Axes>"
            ],
            "image/png": "[encoded data removed]"
          },
          "metadata": {
            "tags": [],
            "needs_background": "light"
          }
        },
        {
          "output_type": "display_data",
          "data": {
            "text/plain": [
              "<Figure size 1080x360 with 2 Axes>"
            ],
            "image/png": "[encoded data removed]"
          },
          "metadata": {
            "tags": [],
            "needs_background": "light"
          }
        }
      ]
    },
    {
      "cell_type": "markdown",
      "metadata": {
        "id": "3NbwazsWyCXy"
      },
      "source": [
        "It is shown that there are hardly any or comparatively small differences within the years and weekdays.   On the other hand, the fluctuations in terms of months and especially hours offer a starting point for further observations. However, it should be noted that certain travel times are less frequented and therefore a smaller data set is available. The analysis of the extent to which individual parameters influence the price is excluded at this point."
      ]
    },
    {
      "cell_type": "code",
      "metadata": {
        "id": "ctVL7b6XQr6i",
        "trusted": true,
        "outputId": "03bf27e1-1830-4ea6-fbce-c4aa4b8d6196"
      },
      "source": [
        "#check max latitude und max longitude of test data\n",
        "print(\"Max lat pickup: \" + str(test['pickup_latitude'].max()))\n",
        "print(\"Max lat dropoff: \" + str(test['dropoff_latitude'].max()))\n",
        "print(\"Max lon pickup: \" + str(test['pickup_longitude'].max()))\n",
        "print(\"Max lon dropoff: \" + str(test['dropoff_longitude'].max()))\n",
        "print(\"\")\n",
        "print(\"Min lat pickup: \" + str(test['pickup_latitude'].min()))\n",
        "print(\"Min lat dropoff: \" + str(test['dropoff_latitude'].min()))\n",
        "print(\"Min lon pickup: \" + str(test['pickup_longitude'].min()))\n",
        "print(\"Min lon dropoff: \" + str(test['dropoff_longitude'].min()))"
      ],
      "execution_count": null,
      "outputs": [
        {
          "output_type": "stream",
          "text": [
            "Max lat pickup: 41.709553\n",
            "Max lat dropoff: 41.696682\n",
            "Max lon pickup: -72.986534\n",
            "Max lon dropoff: -72.99096\n",
            "\n",
            "Min lat pickup: 40.57314\n",
            "Min lat dropoff: 40.568974\n",
            "Min lon pickup: -74.25219\n",
            "Min lon dropoff: -74.26323\n"
          ],
          "name": "stdout"
        }
      ]
    },
    {
      "cell_type": "markdown",
      "metadata": {
        "id": "3p3pPHX4Hada"
      },
      "source": [
        "Bounding Box New York\n",
        "<table>\n",
        "  <tr>\n",
        "    <th></th>\n",
        "    <th>Dropoff</th>\n",
        "    <th>Pickup</th>\n",
        "  </tr>\n",
        "  <tr>\n",
        "    <td>Max Long</td>\n",
        "    <td>-72.99096</td>\n",
        "    <td>-72.986534</td>\n",
        "   </tr>\n",
        "   <tr>\n",
        "    <td>Max Lat</td>\n",
        "    <td>41.696682</td>\n",
        "    <td>41.709553</td>\n",
        "   </tr>\n",
        "   <tr>\n",
        "    <td>Min Long</td>\n",
        "    <td>-74.26323</td>\n",
        "    <td>-74.25219</td>\n",
        "    </tr>\n",
        "   <tr>\n",
        "    <td>Min Lat</td>\n",
        "    <td>40.568974</td>\n",
        "    <td>40.57314</td>\n",
        "   </tr>\n",
        "</table>\n",
        "\n"
      ]
    },
    {
      "cell_type": "code",
      "metadata": {
        "id": "gMZUYAcDVO1x",
        "trusted": true,
        "outputId": "0bba1baa-2cc7-40c4-aa4f-44b27ed7be26"
      },
      "source": [
        "train.head(2)"
      ],
      "execution_count": null,
      "outputs": [
        {
          "output_type": "execute_result",
          "data": {
            "text/plain": [
              "                           key  fare_amount     pickup_datetime  \\\n",
              "0  2009-06-15 17:26:21.0000001          4.5 2009-06-15 17:26:21   \n",
              "1  2010-01-05 16:52:16.0000002         16.9 2010-01-05 16:52:16   \n",
              "\n",
              "   pickup_longitude  pickup_latitude  dropoff_longitude  dropoff_latitude  \\\n",
              "0        -73.844307        40.721321         -73.841614         40.712273   \n",
              "1        -74.016045        40.711304         -73.979271         40.782005   \n",
              "\n",
              "   passenger_count  hour  weekday  month  year  distance  \n",
              "0                1    17        0      6  2009  0.000000  \n",
              "1                1    16        1      1  2010  5.244397  "
            ],
            "text/html": [
              "<div>\n",
              "<style scoped>\n",
              "    .dataframe tbody tr th:only-of-type {\n",
              "        vertical-align: middle;\n",
              "    }\n",
              "\n",
              "    .dataframe tbody tr th {\n",
              "        vertical-align: top;\n",
              "    }\n",
              "\n",
              "    .dataframe thead th {\n",
              "        text-align: right;\n",
              "    }\n",
              "</style>\n",
              "<table border=\"1\" class=\"dataframe\">\n",
              "  <thead>\n",
              "    <tr style=\"text-align: right;\">\n",
              "      <th></th>\n",
              "      <th>key</th>\n",
              "      <th>fare_amount</th>\n",
              "      <th>pickup_datetime</th>\n",
              "      <th>pickup_longitude</th>\n",
              "      <th>pickup_latitude</th>\n",
              "      <th>dropoff_longitude</th>\n",
              "      <th>dropoff_latitude</th>\n",
              "      <th>passenger_count</th>\n",
              "      <th>hour</th>\n",
              "      <th>weekday</th>\n",
              "      <th>month</th>\n",
              "      <th>year</th>\n",
              "      <th>distance</th>\n",
              "    </tr>\n",
              "  </thead>\n",
              "  <tbody>\n",
              "    <tr>\n",
              "      <th>0</th>\n",
              "      <td>2009-06-15 17:26:21.0000001</td>\n",
              "      <td>4.5</td>\n",
              "      <td>2009-06-15 17:26:21</td>\n",
              "      <td>-73.844307</td>\n",
              "      <td>40.721321</td>\n",
              "      <td>-73.841614</td>\n",
              "      <td>40.712273</td>\n",
              "      <td>1</td>\n",
              "      <td>17</td>\n",
              "      <td>0</td>\n",
              "      <td>6</td>\n",
              "      <td>2009</td>\n",
              "      <td>0.000000</td>\n",
              "    </tr>\n",
              "    <tr>\n",
              "      <th>1</th>\n",
              "      <td>2010-01-05 16:52:16.0000002</td>\n",
              "      <td>16.9</td>\n",
              "      <td>2010-01-05 16:52:16</td>\n",
              "      <td>-74.016045</td>\n",
              "      <td>40.711304</td>\n",
              "      <td>-73.979271</td>\n",
              "      <td>40.782005</td>\n",
              "      <td>1</td>\n",
              "      <td>16</td>\n",
              "      <td>1</td>\n",
              "      <td>1</td>\n",
              "      <td>2010</td>\n",
              "      <td>5.244397</td>\n",
              "    </tr>\n",
              "  </tbody>\n",
              "</table>\n",
              "</div>"
            ]
          },
          "metadata": {
            "tags": []
          },
          "execution_count": 33
        }
      ]
    },
    {
      "cell_type": "code",
      "metadata": {
        "trusted": true,
        "id": "1RzVhB06r-pJ"
      },
      "source": [
        "#Parts of train data are too far away, so they can be dropped\n",
        "train = train[(train['pickup_longitude'] > -74.25) & (train['pickup_longitude'] < -72.98)]\n",
        "train = train[(train['pickup_latitude'] > 40.57) & (train['pickup_latitude'] < 41.70)]\n",
        "train = train[(train['dropoff_longitude'] < -72.99) & (train['dropoff_longitude'] > -74.26)]\n",
        "train = train[(train['dropoff_latitude'] > 40.56) & (train['dropoff_latitude'] < 41.69)]"
      ],
      "execution_count": null,
      "outputs": []
    },
    {
      "cell_type": "code",
      "metadata": {
        "id": "Lh8BCPIjGDkx",
        "trusted": true,
        "outputId": "6e5f8de6-4be7-4d03-c76b-7c061f4fb721"
      },
      "source": [
        "dropoff_longitude = train['dropoff_longitude'].to_array()\n",
        "dropoff_latitude = train['dropoff_latitude'].to_array()\n",
        "\n",
        "city_long_border = (-74.03, -73.75)\n",
        "city_lat_border = (40.63, 40.85)\n",
        "\n",
        "plt.figure(figsize=(10,6))\n",
        "plt.scatter(dropoff_longitude, dropoff_latitude,\n",
        "                color='green', \n",
        "                s=.02, alpha=.6)\n",
        "plt.title(\"Dropoffs\")\n",
        "\n",
        "plt.ylim(city_lat_border)\n",
        "plt.xlim(city_long_border)"
      ],
      "execution_count": null,
      "outputs": [
        {
          "output_type": "execute_result",
          "data": {
            "text/plain": [
              "(-74.03, -73.75)"
            ]
          },
          "metadata": {
            "tags": []
          },
          "execution_count": 35
        },
        {
          "output_type": "display_data",
          "data": {
            "text/plain": [
              "<Figure size 720x432 with 1 Axes>"
            ],
            "image/png": "[encoded data removed]"
          },
          "metadata": {
            "tags": [],
            "needs_background": "light"
          }
        }
      ]
    },
    {
      "cell_type": "code",
      "metadata": {
        "trusted": true,
        "id": "prWtnLq-ru0N",
        "outputId": "44802118-04df-4697-c5c1-40e50c0c9fb2"
      },
      "source": [
        "dropoff_longitude = train['pickup_longitude'].to_array()\n",
        "dropoff_latitude = train['pickup_latitude'].to_array()\n",
        "\n",
        "city_long_border = (-74.03, -73.75)\n",
        "city_lat_border = (40.63, 40.85)\n",
        "\n",
        "plt.figure(figsize=(10,6))\n",
        "plt.scatter(dropoff_longitude, dropoff_latitude,\n",
        "                color='blue', \n",
        "                s=.02, alpha=.6)\n",
        "plt.title(\"Pickups\")\n",
        "\n",
        "plt.ylim(city_lat_border)\n",
        "plt.xlim(city_long_border)"
      ],
      "execution_count": null,
      "outputs": [
        {
          "output_type": "execute_result",
          "data": {
            "text/plain": [
              "(-74.03, -73.75)"
            ]
          },
          "metadata": {
            "tags": []
          },
          "execution_count": 36
        },
        {
          "output_type": "display_data",
          "data": {
            "text/plain": [
              "<Figure size 720x432 with 1 Axes>"
            ],
            "image/png": "[encoded data removed]"
          },
          "metadata": {
            "tags": [],
            "needs_background": "light"
          }
        }
      ]
    },
    {
      "cell_type": "code",
      "metadata": {
        "id": "7ZqQoFPuGrYN",
        "trusted": true
      },
      "source": [
        "#unnecessary_columns=['key','pickup_datetime','dropoff_latitude','pickup_latitude','dropoff_longitude','pickup_longitude']\n",
        "unnecessary_columns=['key','pickup_datetime']\n",
        "train=train.drop(unnecessary_columns,axis=1)\n",
        "test=test.drop(unnecessary_columns,axis=1)"
      ],
      "execution_count": null,
      "outputs": []
    },
    {
      "cell_type": "code",
      "metadata": {
        "id": "zR9cNfz9ITCh",
        "trusted": true,
        "outputId": "cf89abed-e776-42e4-d0e5-3277b23969e9"
      },
      "source": [
        "train.head(2)"
      ],
      "execution_count": null,
      "outputs": [
        {
          "output_type": "execute_result",
          "data": {
            "text/plain": [
              "   fare_amount  pickup_longitude  pickup_latitude  dropoff_longitude  \\\n",
              "0          4.5        -73.844307        40.721321         -73.841614   \n",
              "1         16.9        -74.016045        40.711304         -73.979271   \n",
              "\n",
              "   dropoff_latitude  passenger_count  hour  weekday  month  year  distance  \n",
              "0         40.712273                1    17        0      6  2009  0.000000  \n",
              "1         40.782005                1    16        1      1  2010  5.244397  "
            ],
            "text/html": [
              "<div>\n",
              "<style scoped>\n",
              "    .dataframe tbody tr th:only-of-type {\n",
              "        vertical-align: middle;\n",
              "    }\n",
              "\n",
              "    .dataframe tbody tr th {\n",
              "        vertical-align: top;\n",
              "    }\n",
              "\n",
              "    .dataframe thead th {\n",
              "        text-align: right;\n",
              "    }\n",
              "</style>\n",
              "<table border=\"1\" class=\"dataframe\">\n",
              "  <thead>\n",
              "    <tr style=\"text-align: right;\">\n",
              "      <th></th>\n",
              "      <th>fare_amount</th>\n",
              "      <th>pickup_longitude</th>\n",
              "      <th>pickup_latitude</th>\n",
              "      <th>dropoff_longitude</th>\n",
              "      <th>dropoff_latitude</th>\n",
              "      <th>passenger_count</th>\n",
              "      <th>hour</th>\n",
              "      <th>weekday</th>\n",
              "      <th>month</th>\n",
              "      <th>year</th>\n",
              "      <th>distance</th>\n",
              "    </tr>\n",
              "  </thead>\n",
              "  <tbody>\n",
              "    <tr>\n",
              "      <th>0</th>\n",
              "      <td>4.5</td>\n",
              "      <td>-73.844307</td>\n",
              "      <td>40.721321</td>\n",
              "      <td>-73.841614</td>\n",
              "      <td>40.712273</td>\n",
              "      <td>1</td>\n",
              "      <td>17</td>\n",
              "      <td>0</td>\n",
              "      <td>6</td>\n",
              "      <td>2009</td>\n",
              "      <td>0.000000</td>\n",
              "    </tr>\n",
              "    <tr>\n",
              "      <th>1</th>\n",
              "      <td>16.9</td>\n",
              "      <td>-74.016045</td>\n",
              "      <td>40.711304</td>\n",
              "      <td>-73.979271</td>\n",
              "      <td>40.782005</td>\n",
              "      <td>1</td>\n",
              "      <td>16</td>\n",
              "      <td>1</td>\n",
              "      <td>1</td>\n",
              "      <td>2010</td>\n",
              "      <td>5.244397</td>\n",
              "    </tr>\n",
              "  </tbody>\n",
              "</table>\n",
              "</div>"
            ]
          },
          "metadata": {
            "tags": []
          },
          "execution_count": 38
        }
      ]
    },
    {
      "cell_type": "code",
      "metadata": {
        "id": "TNd_cXuNg3yL",
        "trusted": true,
        "outputId": "5eda30c0-d037-4841-c854-c719b669bcae"
      },
      "source": [
        "test.head(2)"
      ],
      "execution_count": null,
      "outputs": [
        {
          "output_type": "execute_result",
          "data": {
            "text/plain": [
              "   pickup_longitude  pickup_latitude  dropoff_longitude  dropoff_latitude  \\\n",
              "0        -73.973320        40.763805         -73.981430         40.743835   \n",
              "1        -73.986862        40.719383         -73.998886         40.739197   \n",
              "\n",
              "   passenger_count  hour  weekday  month  year  distance  \n",
              "0                1    13        1      1  2015  1.366828  \n",
              "1                1    13        1      1  2015  1.366828  "
            ],
            "text/html": [
              "<div>\n",
              "<style scoped>\n",
              "    .dataframe tbody tr th:only-of-type {\n",
              "        vertical-align: middle;\n",
              "    }\n",
              "\n",
              "    .dataframe tbody tr th {\n",
              "        vertical-align: top;\n",
              "    }\n",
              "\n",
              "    .dataframe thead th {\n",
              "        text-align: right;\n",
              "    }\n",
              "</style>\n",
              "<table border=\"1\" class=\"dataframe\">\n",
              "  <thead>\n",
              "    <tr style=\"text-align: right;\">\n",
              "      <th></th>\n",
              "      <th>pickup_longitude</th>\n",
              "      <th>pickup_latitude</th>\n",
              "      <th>dropoff_longitude</th>\n",
              "      <th>dropoff_latitude</th>\n",
              "      <th>passenger_count</th>\n",
              "      <th>hour</th>\n",
              "      <th>weekday</th>\n",
              "      <th>month</th>\n",
              "      <th>year</th>\n",
              "      <th>distance</th>\n",
              "    </tr>\n",
              "  </thead>\n",
              "  <tbody>\n",
              "    <tr>\n",
              "      <th>0</th>\n",
              "      <td>-73.973320</td>\n",
              "      <td>40.763805</td>\n",
              "      <td>-73.981430</td>\n",
              "      <td>40.743835</td>\n",
              "      <td>1</td>\n",
              "      <td>13</td>\n",
              "      <td>1</td>\n",
              "      <td>1</td>\n",
              "      <td>2015</td>\n",
              "      <td>1.366828</td>\n",
              "    </tr>\n",
              "    <tr>\n",
              "      <th>1</th>\n",
              "      <td>-73.986862</td>\n",
              "      <td>40.719383</td>\n",
              "      <td>-73.998886</td>\n",
              "      <td>40.739197</td>\n",
              "      <td>1</td>\n",
              "      <td>13</td>\n",
              "      <td>1</td>\n",
              "      <td>1</td>\n",
              "      <td>2015</td>\n",
              "      <td>1.366828</td>\n",
              "    </tr>\n",
              "  </tbody>\n",
              "</table>\n",
              "</div>"
            ]
          },
          "metadata": {
            "tags": []
          },
          "execution_count": 39
        }
      ]
    },
    {
      "cell_type": "markdown",
      "metadata": {
        "id": "hC3zq1qnru0v"
      },
      "source": [
        "# 4. Functions for all models"
      ]
    },
    {
      "cell_type": "code",
      "metadata": {
        "trusted": true,
        "id": "adt8V0pSru0w"
      },
      "source": [
        "def model_save(y_pred, name):\n",
        "  #gdf_submission = cudf.read_csv(env_path +'/sample_submission.csv')\n",
        "  gdf_submission = submission\n",
        "  gdf_submission['fare_amount']= y_pred\n",
        "  gdf_submission.to_csv(env_submission_path + name, index=False)\n",
        "  return gdf_submission.head()"
      ],
      "execution_count": null,
      "outputs": []
    },
    {
      "cell_type": "code",
      "metadata": {
        "trusted": true,
        "id": "wSo-uNnZru05",
        "outputId": "efdbe579-775a-4c3d-a710-c37c56255d6f"
      },
      "source": [
        "#A one-time train-test-split is performed, which is used by all models. \n",
        "#This enables a better comparability of the individual approaches.\n",
        "X=train.drop(['fare_amount'],axis=1)\n",
        "y=train['fare_amount']\n",
        "\n",
        "X_train, X_test, y_train, y_test = train_test_split(X,y, test_size=0.2)\n",
        "print(\"Number of records in training data \",X_train.shape[0])\n",
        "print(\"Number of records in validation data \",X_test.shape[0])\n",
        "print(X_train.shape)\n",
        "print(X_test.shape)\n",
        "print(y_train.shape)\n",
        "print(y_test.shape)"
      ],
      "execution_count": null,
      "outputs": [
        {
          "output_type": "stream",
          "text": [
            "Number of records in training data  383182\n",
            "Number of records in validation data  95795\n",
            "(383182, 10)\n",
            "(95795, 10)\n",
            "(383182,)\n",
            "(95795,)\n"
          ],
          "name": "stdout"
        }
      ]
    },
    {
      "cell_type": "code",
      "metadata": {
        "trusted": true,
        "id": "uaQL8PHEru1A"
      },
      "source": [
        "def impact_model(model):\n",
        "\n",
        "    importances = model.feature_importances_\n",
        "    std = np.std([tree.feature_importances_ for tree in model.estimators_],\n",
        "                 axis=0)\n",
        "    indices = np.argsort(importances)[::-1]\n",
        "\n",
        "    # Print the feature ranking\n",
        "    print(\"Feature ranking:\")\n",
        "\n",
        "    for f in range(X.shape[1]):\n",
        "        print(\"%d. feature %d (%f)\" % (f + 1, indices[f], importances[indices[f]]))\n",
        "\n",
        "    # Plot the impurity-based feature importances of the forest\n",
        "    plt.figure()\n",
        "    plt.title(\"Feature importances\")\n",
        "    plt.bar(range(X.shape[1]), importances[indices],\n",
        "            color=\"r\", yerr=std[indices], align=\"center\")\n",
        "    plt.xticks(range(X.shape[1]), indices)\n",
        "    plt.xlim([-1, X.shape[1]])\n",
        "    plt.show()"
      ],
      "execution_count": null,
      "outputs": []
    },
    {
      "cell_type": "markdown",
      "metadata": {
        "id": "ASbJyvwrLXEA"
      },
      "source": [
        "# 5. Comparing CPU and GPU Linear Regression"
      ]
    },
    {
      "cell_type": "code",
      "metadata": {
        "trusted": true,
        "id": "gzjpKq9vru1J"
      },
      "source": [
        "import cudf\n",
        "from cuml import make_regression, train_test_split\n",
        "from cuml.linear_model import LinearRegression as cuLinearRegression\n",
        "from cuml.metrics.regression import r2_score\n",
        "from sklearn.linear_model import LinearRegression as skLinearRegression"
      ],
      "execution_count": null,
      "outputs": []
    },
    {
      "cell_type": "code",
      "metadata": {
        "trusted": true,
        "id": "3TUseUC5ru1Q"
      },
      "source": [
        "# Copy dataset from GPU memory to host memory.\n",
        "# This is done to later compare CPU and GPU results.\n",
        "X_train_lr = X_train.to_pandas()\n",
        "X_test_lr = X_test.to_pandas()\n",
        "y_train_lr = y_train.to_pandas()\n",
        "y_test_lr = y_test.to_pandas()"
      ],
      "execution_count": null,
      "outputs": []
    },
    {
      "cell_type": "markdown",
      "metadata": {
        "id": "-ODb-tlSru1c"
      },
      "source": [
        "CPU"
      ]
    },
    {
      "cell_type": "code",
      "metadata": {
        "trusted": true,
        "id": "z_x-H0y1ru1g",
        "outputId": "466319c9-fbed-43b7-e97e-7673bc04687a"
      },
      "source": [
        "%%time\n",
        "ols_sk = skLinearRegression(fit_intercept=True,\n",
        "                            normalize=False,\n",
        "                            n_jobs=-1)\n",
        "\n",
        "ols_sk.fit(X_train_lr, y_train_lr)"
      ],
      "execution_count": null,
      "outputs": [
        {
          "output_type": "stream",
          "text": [
            "CPU times: user 44.7 ms, sys: 29.5 ms, total: 74.2 ms\n",
            "Wall time: 126 ms\n"
          ],
          "name": "stdout"
        },
        {
          "output_type": "execute_result",
          "data": {
            "text/plain": [
              "LinearRegression(n_jobs=-1)"
            ]
          },
          "metadata": {
            "tags": []
          },
          "execution_count": 45
        }
      ]
    },
    {
      "cell_type": "code",
      "metadata": {
        "trusted": true,
        "id": "HS3ay-orru1p",
        "outputId": "60ff9386-04ad-4daa-f99d-5aaff3c0e595"
      },
      "source": [
        "%%time\n",
        "predict_sk = ols_sk.predict(X_test_lr)"
      ],
      "execution_count": null,
      "outputs": [
        {
          "output_type": "stream",
          "text": [
            "CPU times: user 5.74 ms, sys: 974 µs, total: 6.72 ms\n",
            "Wall time: 5.77 ms\n"
          ],
          "name": "stdout"
        }
      ]
    },
    {
      "cell_type": "code",
      "metadata": {
        "trusted": true,
        "id": "cAoDcsNeru1x",
        "outputId": "e840ce78-eabf-4a29-c88f-c25e1a347cf2"
      },
      "source": [
        "%%time\n",
        "r2_score_sk = r2_score(y_test_lr, predict_sk)"
      ],
      "execution_count": null,
      "outputs": [
        {
          "output_type": "stream",
          "text": [
            "CPU times: user 2.44 ms, sys: 1.16 ms, total: 3.59 ms\n",
            "Wall time: 2.75 ms\n"
          ],
          "name": "stdout"
        }
      ]
    },
    {
      "cell_type": "markdown",
      "metadata": {
        "id": "VK7ZeW_Tru19"
      },
      "source": [
        "GPU"
      ]
    },
    {
      "cell_type": "code",
      "metadata": {
        "trusted": true,
        "id": "cQBNr_lZru1_",
        "outputId": "d62bfbae-5766-409e-816c-0c8107dbe668"
      },
      "source": [
        "%%time\n",
        "ols_cuml = cuLinearRegression(fit_intercept=True,\n",
        "                              normalize=False,\n",
        "                              algorithm='eig')\n",
        "\n",
        "ols_cuml.fit(X_train, y_train)"
      ],
      "execution_count": null,
      "outputs": [
        {
          "output_type": "stream",
          "text": [
            "CPU times: user 731 ms, sys: 169 ms, total: 901 ms\n",
            "Wall time: 898 ms\n"
          ],
          "name": "stdout"
        },
        {
          "output_type": "execute_result",
          "data": {
            "text/plain": [
              "LinearRegression(algorithm='eig', fit_intercept=True, normalize=False, handle=<cuml.common.handle.Handle object at 0x7fb4543d13d0>, verbose=2, output_type='cudf')"
            ]
          },
          "metadata": {
            "tags": []
          },
          "execution_count": 48
        }
      ]
    },
    {
      "cell_type": "code",
      "metadata": {
        "trusted": true,
        "id": "snczNOrTru2J",
        "outputId": "07568bc3-f3e8-4245-e43c-f9cecc37e1d1"
      },
      "source": [
        "%%time\n",
        "predict_cuml = ols_cuml.predict(X_test)"
      ],
      "execution_count": null,
      "outputs": [
        {
          "output_type": "stream",
          "text": [
            "CPU times: user 5.5 ms, sys: 0 ns, total: 5.5 ms\n",
            "Wall time: 6.57 ms\n"
          ],
          "name": "stdout"
        }
      ]
    },
    {
      "cell_type": "code",
      "metadata": {
        "trusted": true,
        "id": "KzoPhKMBru2T",
        "outputId": "5257d877-e6fd-4212-cdb2-03a7915b488e"
      },
      "source": [
        "%%time\n",
        "r2_score_cuml = r2_score(y_test, predict_cuml)"
      ],
      "execution_count": null,
      "outputs": [
        {
          "output_type": "stream",
          "text": [
            "CPU times: user 668 µs, sys: 0 ns, total: 668 µs\n",
            "Wall time: 677 µs\n"
          ],
          "name": "stdout"
        }
      ]
    },
    {
      "cell_type": "code",
      "metadata": {
        "trusted": true,
        "id": "figdl7Zmru2a",
        "outputId": "8306452e-73f3-4869-c084-bddb9b29a231"
      },
      "source": [
        "print(\"R^2 score (SKL):  %s\" % r2_score_sk)\n",
        "print(\"R^2 score (cuML): %s\" % r2_score_cuml)"
      ],
      "execution_count": null,
      "outputs": [
        {
          "output_type": "stream",
          "text": [
            "R^2 score (SKL):  0.6466501951217651\n",
            "R^2 score (cuML): 0.6466484069824219\n"
          ],
          "name": "stdout"
        }
      ]
    },
    {
      "cell_type": "code",
      "metadata": {
        "trusted": true,
        "id": "rz6iyiTAru2j"
      },
      "source": [
        "y_pred = predict_cuml"
      ],
      "execution_count": null,
      "outputs": []
    },
    {
      "cell_type": "code",
      "metadata": {
        "trusted": true,
        "id": "4vyYc5EIru2q",
        "outputId": "1c8bc4bc-6236-42d4-d853-4127953f44d2"
      },
      "source": [
        "model_save(y_pred,\"/LinearReg.csv\")"
      ],
      "execution_count": null,
      "outputs": [
        {
          "output_type": "execute_result",
          "data": {
            "text/plain": [
              "                           key  fare_amount\n",
              "0  2015-01-27 13:08:24.0000002     9.096436\n",
              "1  2015-01-27 13:08:24.0000003     8.633545\n",
              "2  2011-10-08 11:53:44.0000002     9.752197\n",
              "3  2012-12-01 21:12:12.0000002    10.559570\n",
              "4  2012-12-01 21:12:12.0000003     9.375732"
            ],
            "text/html": [
              "<div>\n",
              "<style scoped>\n",
              "    .dataframe tbody tr th:only-of-type {\n",
              "        vertical-align: middle;\n",
              "    }\n",
              "\n",
              "    .dataframe tbody tr th {\n",
              "        vertical-align: top;\n",
              "    }\n",
              "\n",
              "    .dataframe thead th {\n",
              "        text-align: right;\n",
              "    }\n",
              "</style>\n",
              "<table border=\"1\" class=\"dataframe\">\n",
              "  <thead>\n",
              "    <tr style=\"text-align: right;\">\n",
              "      <th></th>\n",
              "      <th>key</th>\n",
              "      <th>fare_amount</th>\n",
              "    </tr>\n",
              "  </thead>\n",
              "  <tbody>\n",
              "    <tr>\n",
              "      <th>0</th>\n",
              "      <td>2015-01-27 13:08:24.0000002</td>\n",
              "      <td>9.096436</td>\n",
              "    </tr>\n",
              "    <tr>\n",
              "      <th>1</th>\n",
              "      <td>2015-01-27 13:08:24.0000003</td>\n",
              "      <td>8.633545</td>\n",
              "    </tr>\n",
              "    <tr>\n",
              "      <th>2</th>\n",
              "      <td>2011-10-08 11:53:44.0000002</td>\n",
              "      <td>9.752197</td>\n",
              "    </tr>\n",
              "    <tr>\n",
              "      <th>3</th>\n",
              "      <td>2012-12-01 21:12:12.0000002</td>\n",
              "      <td>10.559570</td>\n",
              "    </tr>\n",
              "    <tr>\n",
              "      <th>4</th>\n",
              "      <td>2012-12-01 21:12:12.0000003</td>\n",
              "      <td>9.375732</td>\n",
              "    </tr>\n",
              "  </tbody>\n",
              "</table>\n",
              "</div>"
            ]
          },
          "metadata": {
            "tags": []
          },
          "execution_count": 53
        }
      ]
    },
    {
      "cell_type": "markdown",
      "metadata": {
        "id": "pZh0Ziboru20"
      },
      "source": [
        "Even with linear regression, the simplest approach, a difference in runtimes can be seen with the data set of 500,000 lines. This difference would be more obvious with a larger subset."
      ]
    },
    {
      "cell_type": "markdown",
      "metadata": {
        "id": "KhmGe2pIH8bs"
      },
      "source": [
        "# 6. K-Nearest Neighbors Regression GPU\n",
        "\n",
        "https://github.com/rapidsai/cuml/blob/branch-0.13/notebooks/kneighbors_regressor_demo.ipynb\n"
      ]
    },
    {
      "cell_type": "code",
      "metadata": {
        "id": "hlIw0FgjaKgP",
        "trusted": true
      },
      "source": [
        "## params\n",
        "n_neighbors=4"
      ],
      "execution_count": null,
      "outputs": []
    },
    {
      "cell_type": "code",
      "metadata": {
        "id": "kmdzooShH-MM",
        "trusted": true,
        "outputId": "6189c8bd-2256-4eda-8064-f100bdfd2c3a"
      },
      "source": [
        "%%time\n",
        "\n",
        "knn_cuml = cumlKNR(n_neighbors=n_neighbors)\n",
        "knn_cuml.fit(X_train, y_train)\n",
        "\n",
        "cuml_result = knn_cuml.predict(test)"
      ],
      "execution_count": null,
      "outputs": [
        {
          "output_type": "stream",
          "text": [
            "CPU times: user 691 ms, sys: 215 ms, total: 906 ms\n",
            "Wall time: 925 ms\n"
          ],
          "name": "stdout"
        }
      ]
    },
    {
      "cell_type": "code",
      "metadata": {
        "id": "kjWTGwu_aqNH",
        "trusted": true,
        "outputId": "e4d7b376-0958-4993-f53e-f2abef41f9a4"
      },
      "source": [
        "y_pred = knn_cuml.predict(X_test)\n",
        "knn_cuml_rmse = cuml.metrics.regression.r2_score(y_pred, y_test)\n",
        "print(\"RMSE for K-Nearest Neighbor is \",knn_cuml_rmse)"
      ],
      "execution_count": null,
      "outputs": [
        {
          "output_type": "stream",
          "text": [
            "RMSE for K-Nearest Neighbor is  0.6356151103973389\n"
          ],
          "name": "stdout"
        }
      ]
    },
    {
      "cell_type": "code",
      "metadata": {
        "trusted": true,
        "id": "czvkxzEAru3U",
        "outputId": "46847f7c-662e-47eb-b8db-88d21ae0394b"
      },
      "source": [
        "model_save(y_pred,\"/KNearest.csv\")"
      ],
      "execution_count": null,
      "outputs": [
        {
          "output_type": "execute_result",
          "data": {
            "text/plain": [
              "                           key  fare_amount\n",
              "0  2015-01-27 13:08:24.0000002    10.200001\n",
              "1  2015-01-27 13:08:24.0000003     8.200001\n",
              "2  2011-10-08 11:53:44.0000002     8.500000\n",
              "3  2012-12-01 21:12:12.0000002     9.800000\n",
              "4  2012-12-01 21:12:12.0000003     7.750000"
            ],
            "text/html": [
              "<div>\n",
              "<style scoped>\n",
              "    .dataframe tbody tr th:only-of-type {\n",
              "        vertical-align: middle;\n",
              "    }\n",
              "\n",
              "    .dataframe tbody tr th {\n",
              "        vertical-align: top;\n",
              "    }\n",
              "\n",
              "    .dataframe thead th {\n",
              "        text-align: right;\n",
              "    }\n",
              "</style>\n",
              "<table border=\"1\" class=\"dataframe\">\n",
              "  <thead>\n",
              "    <tr style=\"text-align: right;\">\n",
              "      <th></th>\n",
              "      <th>key</th>\n",
              "      <th>fare_amount</th>\n",
              "    </tr>\n",
              "  </thead>\n",
              "  <tbody>\n",
              "    <tr>\n",
              "      <th>0</th>\n",
              "      <td>2015-01-27 13:08:24.0000002</td>\n",
              "      <td>10.200001</td>\n",
              "    </tr>\n",
              "    <tr>\n",
              "      <th>1</th>\n",
              "      <td>2015-01-27 13:08:24.0000003</td>\n",
              "      <td>8.200001</td>\n",
              "    </tr>\n",
              "    <tr>\n",
              "      <th>2</th>\n",
              "      <td>2011-10-08 11:53:44.0000002</td>\n",
              "      <td>8.500000</td>\n",
              "    </tr>\n",
              "    <tr>\n",
              "      <th>3</th>\n",
              "      <td>2012-12-01 21:12:12.0000002</td>\n",
              "      <td>9.800000</td>\n",
              "    </tr>\n",
              "    <tr>\n",
              "      <th>4</th>\n",
              "      <td>2012-12-01 21:12:12.0000003</td>\n",
              "      <td>7.750000</td>\n",
              "    </tr>\n",
              "  </tbody>\n",
              "</table>\n",
              "</div>"
            ]
          },
          "metadata": {
            "tags": []
          },
          "execution_count": 57
        }
      ]
    },
    {
      "cell_type": "markdown",
      "metadata": {
        "id": "T0nLQZe2zzv_"
      },
      "source": [
        "# 7. Comparing CPU and GPU Random Forest\n"
      ]
    },
    {
      "cell_type": "markdown",
      "metadata": {
        "id": "T1aaTiqHru3d"
      },
      "source": [
        "CPU"
      ]
    },
    {
      "cell_type": "code",
      "metadata": {
        "trusted": true,
        "id": "IKR7t0curu3e"
      },
      "source": [
        "from sklearn.ensemble import RandomForestRegressor, RandomForestClassifier"
      ],
      "execution_count": null,
      "outputs": []
    },
    {
      "cell_type": "code",
      "metadata": {
        "trusted": true,
        "id": "k_9dxYDAru3l"
      },
      "source": [
        "rf_skl_params = {\n",
        "    'n_estimators': 10,\n",
        "    'max_depth': 16\n",
        "}"
      ],
      "execution_count": null,
      "outputs": []
    },
    {
      "cell_type": "code",
      "metadata": {
        "trusted": true,
        "id": "bW1CwW0iru3x",
        "outputId": "217fecc8-50bd-4c95-e10d-c6ca7a5ca1cf"
      },
      "source": [
        "%%time\n",
        "rf_skl = RandomForestRegressor(n_estimators=10, max_depth=16)\n",
        "rf_skl.fit(X_train_lr, y_train_lr)"
      ],
      "execution_count": null,
      "outputs": [
        {
          "output_type": "stream",
          "text": [
            "CPU times: user 25.1 s, sys: 29.6 ms, total: 25.1 s\n",
            "Wall time: 25.2 s\n"
          ],
          "name": "stdout"
        },
        {
          "output_type": "execute_result",
          "data": {
            "text/plain": [
              "RandomForestRegressor(max_depth=16, n_estimators=10)"
            ]
          },
          "metadata": {
            "tags": []
          },
          "execution_count": 60
        }
      ]
    },
    {
      "cell_type": "code",
      "metadata": {
        "trusted": true,
        "id": "ebreuikuru39",
        "outputId": "c9f7e65c-3434-44a4-de4b-1ec792935c85"
      },
      "source": [
        "%%time\n",
        "predict_rf = rf_skl.predict(X_test_lr)"
      ],
      "execution_count": null,
      "outputs": [
        {
          "output_type": "stream",
          "text": [
            "CPU times: user 156 ms, sys: 1 ms, total: 157 ms\n",
            "Wall time: 156 ms\n"
          ],
          "name": "stdout"
        }
      ]
    },
    {
      "cell_type": "code",
      "metadata": {
        "trusted": true,
        "id": "OEOs3QJfru4E"
      },
      "source": [
        "predict_rf = predict_rf.astype('float32')"
      ],
      "execution_count": null,
      "outputs": []
    },
    {
      "cell_type": "code",
      "metadata": {
        "trusted": true,
        "id": "gjL5doc4ru4N",
        "outputId": "edbcbd94-5100-4d1b-93f4-8a6b87009db0"
      },
      "source": [
        "%%time\n",
        "r2_score_rf = r2_score(y_test, predict_rf)"
      ],
      "execution_count": null,
      "outputs": [
        {
          "output_type": "stream",
          "text": [
            "CPU times: user 2.33 ms, sys: 22 µs, total: 2.35 ms\n",
            "Wall time: 2.05 ms\n"
          ],
          "name": "stdout"
        }
      ]
    },
    {
      "cell_type": "markdown",
      "metadata": {
        "id": "x_Rb25Z5ru4T"
      },
      "source": [
        "GPU"
      ]
    },
    {
      "cell_type": "code",
      "metadata": {
        "trusted": true,
        "id": "5W7iUcuIru4U"
      },
      "source": [
        "cu_rf_params = {\n",
        "    'n_estimators': 10,\n",
        "    'max_depth': 16\n",
        "}"
      ],
      "execution_count": null,
      "outputs": []
    },
    {
      "cell_type": "code",
      "metadata": {
        "id": "7aJAo-cM0F3C",
        "trusted": true,
        "outputId": "64dbefb2-ac87-4740-d90c-4f9947f70b29"
      },
      "source": [
        "%%time\n",
        "rf_cuml = cuRF(**cu_rf_params)\n",
        "rf_cuml.fit(X_train, y_train)\n",
        "\n",
        "cuRF_result = rf_cuml.predict(test)"
      ],
      "execution_count": null,
      "outputs": [
        {
          "output_type": "stream",
          "text": [
            "CPU times: user 1.31 s, sys: 423 ms, total: 1.73 s\n",
            "Wall time: 1.24 s\n"
          ],
          "name": "stdout"
        }
      ]
    },
    {
      "cell_type": "code",
      "metadata": {
        "id": "JopZ4B2P1vh7",
        "trusted": true
      },
      "source": [
        "y_pred = rf_cuml.predict(X_test)\n",
        "rf_cuml_rmse = cuml.metrics.regression.r2_score(y_pred, y_test)"
      ],
      "execution_count": null,
      "outputs": []
    },
    {
      "cell_type": "code",
      "metadata": {
        "trusted": true,
        "id": "HT6UDocgru4p",
        "outputId": "9354e3c3-f7d4-4070-f77b-ae95b677dfc3"
      },
      "source": [
        "print(\"R^2 score (SKL):  %s\" % r2_score_rf)\n",
        "print(\"R^2 score (cuRF): %s\" % rf_cuml_rmse)"
      ],
      "execution_count": null,
      "outputs": [
        {
          "output_type": "stream",
          "text": [
            "R^2 score (SKL):  0.8227115869522095\n",
            "R^2 score (cuRF): 0.5182515382766724\n"
          ],
          "name": "stdout"
        }
      ]
    },
    {
      "cell_type": "code",
      "metadata": {
        "trusted": true,
        "id": "wBURKDW6ru4w",
        "outputId": "01f0d860-a699-4a96-a3a8-6e0105382e52"
      },
      "source": [
        "impact_model(rf_skl)\n",
        "\n",
        "print(\"0: pickup_longitude, 1: pickup_latitude, 2: dropoff_longitude, 3: dropoff_latitude, 4: passenger_count, 5: hour, 6: weekday, 7: month, 8: year, 9: distance\")"
      ],
      "execution_count": null,
      "outputs": [
        {
          "output_type": "stream",
          "text": [
            "Feature ranking:\n",
            "1. feature 9 (0.829736)\n",
            "2. feature 2 (0.051078)\n",
            "3. feature 3 (0.027632)\n",
            "4. feature 0 (0.027035)\n",
            "5. feature 8 (0.026016)\n",
            "6. feature 1 (0.015356)\n",
            "7. feature 5 (0.009855)\n",
            "8. feature 7 (0.006447)\n",
            "9. feature 6 (0.005240)\n",
            "10. feature 4 (0.001606)\n"
          ],
          "name": "stdout"
        },
        {
          "output_type": "display_data",
          "data": {
            "text/plain": [
              "<Figure size 432x288 with 1 Axes>"
            ],
            "image/png": "[encoded data removed]"
          },
          "metadata": {
            "tags": [],
            "needs_background": "light"
          }
        },
        {
          "output_type": "stream",
          "text": [
            "0: pickup_longitude, 1: pickup_latitude, 2: dropoff_longitude, 3: dropoff_latitude, 4: passenger_count, 5: hour, 6: weekday, 7: month, 8: year, 9: distance\n"
          ],
          "name": "stdout"
        }
      ]
    },
    {
      "cell_type": "code",
      "metadata": {
        "id": "B0tAnJJv4T-x",
        "trusted": true,
        "outputId": "b464d4d0-971a-4dbe-cad4-a5d016000fd4"
      },
      "source": [
        "model_save(y_pred, \"/RandomForest.csv\")"
      ],
      "execution_count": null,
      "outputs": [
        {
          "output_type": "execute_result",
          "data": {
            "text/plain": [
              "                           key  fare_amount\n",
              "0  2015-01-27 13:08:24.0000002    13.994330\n",
              "1  2015-01-27 13:08:24.0000003     7.703254\n",
              "2  2011-10-08 11:53:44.0000002     7.108422\n",
              "3  2012-12-01 21:12:12.0000002    10.559744\n",
              "4  2012-12-01 21:12:12.0000003     7.959981"
            ],
            "text/html": [
              "<div>\n",
              "<style scoped>\n",
              "    .dataframe tbody tr th:only-of-type {\n",
              "        vertical-align: middle;\n",
              "    }\n",
              "\n",
              "    .dataframe tbody tr th {\n",
              "        vertical-align: top;\n",
              "    }\n",
              "\n",
              "    .dataframe thead th {\n",
              "        text-align: right;\n",
              "    }\n",
              "</style>\n",
              "<table border=\"1\" class=\"dataframe\">\n",
              "  <thead>\n",
              "    <tr style=\"text-align: right;\">\n",
              "      <th></th>\n",
              "      <th>key</th>\n",
              "      <th>fare_amount</th>\n",
              "    </tr>\n",
              "  </thead>\n",
              "  <tbody>\n",
              "    <tr>\n",
              "      <th>0</th>\n",
              "      <td>2015-01-27 13:08:24.0000002</td>\n",
              "      <td>13.994330</td>\n",
              "    </tr>\n",
              "    <tr>\n",
              "      <th>1</th>\n",
              "      <td>2015-01-27 13:08:24.0000003</td>\n",
              "      <td>7.703254</td>\n",
              "    </tr>\n",
              "    <tr>\n",
              "      <th>2</th>\n",
              "      <td>2011-10-08 11:53:44.0000002</td>\n",
              "      <td>7.108422</td>\n",
              "    </tr>\n",
              "    <tr>\n",
              "      <th>3</th>\n",
              "      <td>2012-12-01 21:12:12.0000002</td>\n",
              "      <td>10.559744</td>\n",
              "    </tr>\n",
              "    <tr>\n",
              "      <th>4</th>\n",
              "      <td>2012-12-01 21:12:12.0000003</td>\n",
              "      <td>7.959981</td>\n",
              "    </tr>\n",
              "  </tbody>\n",
              "</table>\n",
              "</div>"
            ]
          },
          "metadata": {
            "tags": []
          },
          "execution_count": 67
        }
      ]
    },
    {
      "cell_type": "markdown",
      "metadata": {
        "id": "WAmlv3Q_ru40"
      },
      "source": [
        "The Random Forest Model illustrates the runtime difference for this small data set of 500,000 lines. While the model takes 25.2 seconds on the CPU, it takes only 1.24s on the GPU. This is already 20 times faster. It can also be seen that the influence of a single attribute (distance) is very large, while the other values have relatively little effect."
      ]
    },
    {
      "cell_type": "markdown",
      "metadata": {
        "id": "mRFqzppRru41"
      },
      "source": [
        "# 8. Comparing CPU and GPU Ridge Regression"
      ]
    },
    {
      "cell_type": "code",
      "metadata": {
        "trusted": true,
        "id": "XszbEGyFru42"
      },
      "source": [
        "from cuml.linear_model import Ridge as cuRidge\n",
        "from sklearn.linear_model import Ridge as skRidge"
      ],
      "execution_count": null,
      "outputs": []
    },
    {
      "cell_type": "markdown",
      "metadata": {
        "id": "TUpq0xLjru44"
      },
      "source": [
        "CPU"
      ]
    },
    {
      "cell_type": "code",
      "metadata": {
        "trusted": true,
        "id": "aHPXRQafru49",
        "outputId": "fa0bb802-e248-4463-f2fe-47b2be4fca1b"
      },
      "source": [
        "%%time\n",
        "ridge_sk = skRidge(fit_intercept=False, normalize=True, alpha=0.1)\n",
        "\n",
        "ridge_sk.fit(X_train_lr, y_train_lr)"
      ],
      "execution_count": null,
      "outputs": [
        {
          "output_type": "stream",
          "text": [
            "CPU times: user 65.1 ms, sys: 7.01 ms, total: 72.1 ms\n",
            "Wall time: 88.3 ms\n"
          ],
          "name": "stdout"
        },
        {
          "output_type": "execute_result",
          "data": {
            "text/plain": [
              "Ridge(alpha=0.1, fit_intercept=False, normalize=True)"
            ]
          },
          "metadata": {
            "tags": []
          },
          "execution_count": 71
        }
      ]
    },
    {
      "cell_type": "code",
      "metadata": {
        "trusted": true,
        "id": "5WyjXMTQru5A",
        "outputId": "d6baf8e6-10ab-405d-f3ff-92bf34987456"
      },
      "source": [
        "%%time\n",
        "predict_sk= ridge_sk.predict(X_test_lr)"
      ],
      "execution_count": null,
      "outputs": [
        {
          "output_type": "stream",
          "text": [
            "CPU times: user 6.37 ms, sys: 29 µs, total: 6.4 ms\n",
            "Wall time: 5.23 ms\n"
          ],
          "name": "stdout"
        }
      ]
    },
    {
      "cell_type": "code",
      "metadata": {
        "trusted": true,
        "id": "EsPCN6_Aru5E",
        "outputId": "bffed397-92df-4409-e2e3-a9e2c1d55a90"
      },
      "source": [
        "%%time\n",
        "r2_score_sk = r2_score(y_test_lr, predict_sk)"
      ],
      "execution_count": null,
      "outputs": [
        {
          "output_type": "stream",
          "text": [
            "CPU times: user 1.05 ms, sys: 2.01 ms, total: 3.05 ms\n",
            "Wall time: 2.78 ms\n"
          ],
          "name": "stdout"
        }
      ]
    },
    {
      "cell_type": "markdown",
      "metadata": {
        "id": "O3_uVI-hru5H"
      },
      "source": [
        "GPU"
      ]
    },
    {
      "cell_type": "code",
      "metadata": {
        "trusted": true,
        "id": "X4zav9HRru5I",
        "outputId": "e391accf-f7be-4fbd-8caf-8556270ea544"
      },
      "source": [
        "%%time\n",
        "# Eig is the faster algorithm, but svd is more accurate.\n",
        "# In general svd uses significantly more memory and is slower than eig.\n",
        "# If using CUDA 10.1, the memory difference is even bigger than in the other supported CUDA versions\n",
        "ridge_cuml = cuRidge(fit_intercept=False, normalize=True, solver='eig', alpha=0.1)\n",
        "\n",
        "ridge_cuml.fit(X_train, y_train)"
      ],
      "execution_count": null,
      "outputs": [
        {
          "output_type": "stream",
          "text": [
            "CPU times: user 12.4 ms, sys: 3.97 ms, total: 16.4 ms\n",
            "Wall time: 17 ms\n"
          ],
          "name": "stdout"
        },
        {
          "output_type": "execute_result",
          "data": {
            "text/plain": [
              "Ridge(alpha=0.1, solver='eig', fit_intercept=False, normalize=True, handle=<cuml.common.handle.Handle object at 0x7fb454712b10>, output_type='cudf')"
            ]
          },
          "metadata": {
            "tags": []
          },
          "execution_count": 74
        }
      ]
    },
    {
      "cell_type": "code",
      "metadata": {
        "trusted": true,
        "id": "dBsgPaihru5M",
        "outputId": "1f1d4552-a0f0-4cbc-f16e-3f8bd9f5005b"
      },
      "source": [
        "%%time\n",
        "predict_cuml = ridge_cuml.predict(X_test)"
      ],
      "execution_count": null,
      "outputs": [
        {
          "output_type": "stream",
          "text": [
            "CPU times: user 4.38 ms, sys: 888 µs, total: 5.26 ms\n",
            "Wall time: 8.09 ms\n"
          ],
          "name": "stdout"
        }
      ]
    },
    {
      "cell_type": "code",
      "metadata": {
        "trusted": true,
        "id": "RuHXGOwgru5P",
        "outputId": "fcf43ed2-5c19-444b-82bc-f3a4ee100add"
      },
      "source": [
        "%%time\n",
        "r2_score_cuml = r2_score(y_test, predict_cuml)"
      ],
      "execution_count": null,
      "outputs": [
        {
          "output_type": "stream",
          "text": [
            "CPU times: user 1.18 ms, sys: 13 µs, total: 1.19 ms\n",
            "Wall time: 1.2 ms\n"
          ],
          "name": "stdout"
        }
      ]
    },
    {
      "cell_type": "code",
      "metadata": {
        "trusted": true,
        "id": "QZYlbVHLru5S",
        "outputId": "6d3525d1-f0d6-47a3-946b-645cbd50a76e"
      },
      "source": [
        "print(\"R^2 score (SKL):  %s\" % r2_score_sk)\n",
        "print(\"R^2 score (cuML): %s\" % r2_score_cuml)"
      ],
      "execution_count": null,
      "outputs": [
        {
          "output_type": "stream",
          "text": [
            "R^2 score (SKL):  0.6404445767402649\n",
            "R^2 score (cuML): 0.6214630007743835\n"
          ],
          "name": "stdout"
        }
      ]
    },
    {
      "cell_type": "markdown",
      "metadata": {
        "id": "7XVM4rrNru5V"
      },
      "source": [
        "# 9. XGBoost running on GPU"
      ]
    },
    {
      "cell_type": "code",
      "metadata": {
        "trusted": true,
        "id": "DhEviXqCru5V"
      },
      "source": [
        "#Model Params Set 1\n",
        "\n",
        "#MAX_TREE_DEPTH = 14\n",
        "#MIN_CHILD_WEIGHT = 6\n",
        "#TREE_METHOD = \"hist\"\n",
        "#ITERATIONS = 120 \n",
        "#SUBSAMPLE = 0.9\n",
        "#REGULARIZATION = 1.4\n",
        "#GAMMA = 0.2\n",
        "#POS_WEIGHT = 0.8\n",
        "#EARLY_STOP = 20 #avoid overfitting\n",
        "#N_ESTIMATORS = 200\n",
        "#LEARNING = 0.075"
      ],
      "execution_count": null,
      "outputs": []
    },
    {
      "cell_type": "code",
      "metadata": {
        "trusted": true,
        "id": "JGNYMhjwru5Y"
      },
      "source": [
        "#Model Params Set 2\n",
        "MAX_TREE_DEPTH = 12\n",
        "MIN_CHILD_WEIGHT = 2\n",
        "TREE_METHOD = \"hist\"\n",
        "ITERATIONS = 300\n",
        "SUBSAMPLE = 0.9\n",
        "REGULARIZATION = 1.4\n",
        "GAMMA = 0.4 \n",
        "POS_WEIGHT = 0.8\n",
        "EARLY_STOP = 20 #avoid overfitting\n",
        "N_ESTIMATORS = 1000\n",
        "LEARNING = 0.15"
      ],
      "execution_count": null,
      "outputs": []
    },
    {
      "cell_type": "code",
      "metadata": {
        "trusted": true,
        "id": "kwdecZo0ru5c",
        "outputId": "b27243e4-7478-4f3b-8332-850b6a1eadb4"
      },
      "source": [
        "# load into cuDF Dataframe / made a copy, in order to continue working on the original data\n",
        "\n",
        "gdf_train = X_train\n",
        "gdf_train_target = y_train\n",
        "\n",
        "gdf_eval = X_test\n",
        "gdf_eval_target = y_test\n",
        "\n",
        "print(\"Moved data to GPU\")"
      ],
      "execution_count": null,
      "outputs": [
        {
          "output_type": "stream",
          "text": [
            "Moved data to GPU\n"
          ],
          "name": "stdout"
        }
      ]
    },
    {
      "cell_type": "code",
      "metadata": {
        "trusted": true,
        "id": "1yIkAkeeru5f",
        "outputId": "db1c6aef-bf62-44e2-ec9e-e2b6f86ad221"
      },
      "source": [
        "#inpired by https://medium.com/rapids-ai/a-new-official-dask-api-for-xgboost-e8b10f3d1eb7\n",
        "import time\n",
        "import itertools\n",
        "\n",
        "# GPU, with using cuDF\n",
        "\n",
        "start_time = time.time()\n",
        "\n",
        "xgtrain = xgb.DMatrix(gdf_train, gdf_train_target)\n",
        "xgeval = xgb.DMatrix(gdf_eval, gdf_eval_target)\n",
        "\n",
        "params = {'tree_method': \"gpu_\"+TREE_METHOD, 'max_depth': MAX_TREE_DEPTH, 'alpha': REGULARIZATION, 'min_child_weight': MIN_CHILD_WEIGHT,\n",
        "          'gamma': GAMMA, 'subsample': SUBSAMPLE, 'scale_pos_weight': POS_WEIGHT, 'learning_rate': LEARNING, 'n_estimators': N_ESTIMATORS, 'silent': 1}\n",
        "\n",
        "bst = xgb.train(params, xgtrain, ITERATIONS, evals=[(xgtrain, \"train\"), (xgeval, \"eval\")],\n",
        "                early_stopping_rounds=EARLY_STOP)\n",
        "\n",
        "timetaken_gpu = time.time() - start_time"
      ],
      "execution_count": null,
      "outputs": [
        {
          "output_type": "stream",
          "text": [
            "[15:17:15] WARNING: /conda/conda-bld/xgboost_1591204502249/work/src/learner.cc:480: \n",
            "Parameters: { n_estimators, silent } might not be used.\n",
            "\n",
            "  This may not be accurate due to some parameters are only used in language bindings but\n",
            "  passed down to XGBoost core.  Or some parameters are not used but slip through this\n",
            "  verification. Please open an issue if you find above cases.\n",
            "\n",
            "\n",
            "[0]\ttrain-rmse:12.47494\teval-rmse:12.43958\n",
            "Multiple eval metrics have been passed: 'eval-rmse' will be used for early stopping.\n",
            "\n",
            "Will train until eval-rmse hasn't improved in 20 rounds.\n",
            "[1]\ttrain-rmse:10.79785\teval-rmse:10.80512\n",
            "[2]\ttrain-rmse:9.39314\teval-rmse:9.44959\n",
            "[3]\ttrain-rmse:8.22268\teval-rmse:8.33384\n",
            "[4]\ttrain-rmse:7.25046\teval-rmse:7.41913\n",
            "[5]\ttrain-rmse:6.44520\teval-rmse:6.68097\n",
            "[6]\ttrain-rmse:5.78514\teval-rmse:6.08628\n",
            "[7]\ttrain-rmse:5.24650\teval-rmse:5.61848\n",
            "[8]\ttrain-rmse:4.80788\teval-rmse:5.25223\n",
            "[9]\ttrain-rmse:4.45710\teval-rmse:4.96703\n",
            "[10]\ttrain-rmse:4.17545\teval-rmse:4.74837\n",
            "[11]\ttrain-rmse:3.95000\teval-rmse:4.58195\n",
            "[12]\ttrain-rmse:3.77287\teval-rmse:4.45441\n",
            "[13]\ttrain-rmse:3.63183\teval-rmse:4.36214\n",
            "[14]\ttrain-rmse:3.51601\teval-rmse:4.28724\n",
            "[15]\ttrain-rmse:3.42040\teval-rmse:4.23099\n",
            "[16]\ttrain-rmse:3.34708\teval-rmse:4.19423\n",
            "[17]\ttrain-rmse:3.28667\teval-rmse:4.16229\n",
            "[18]\ttrain-rmse:3.23556\teval-rmse:4.13749\n",
            "[19]\ttrain-rmse:3.18937\teval-rmse:4.11754\n",
            "[20]\ttrain-rmse:3.15056\teval-rmse:4.10544\n",
            "[21]\ttrain-rmse:3.11949\teval-rmse:4.09454\n",
            "[22]\ttrain-rmse:3.08831\teval-rmse:4.08552\n",
            "[23]\ttrain-rmse:3.06250\teval-rmse:4.07853\n",
            "[24]\ttrain-rmse:3.04385\teval-rmse:4.07282\n",
            "[25]\ttrain-rmse:3.02427\teval-rmse:4.06867\n",
            "[26]\ttrain-rmse:3.00240\teval-rmse:4.06285\n",
            "[27]\ttrain-rmse:2.98266\teval-rmse:4.05837\n",
            "[28]\ttrain-rmse:2.96143\teval-rmse:4.05533\n",
            "[29]\ttrain-rmse:2.94234\teval-rmse:4.05420\n",
            "[30]\ttrain-rmse:2.92867\teval-rmse:4.05547\n",
            "[31]\ttrain-rmse:2.90793\teval-rmse:4.05342\n",
            "[32]\ttrain-rmse:2.89243\teval-rmse:4.05470\n",
            "[33]\ttrain-rmse:2.87502\teval-rmse:4.05419\n",
            "[34]\ttrain-rmse:2.85860\teval-rmse:4.05478\n",
            "[35]\ttrain-rmse:2.84091\teval-rmse:4.05523\n",
            "[36]\ttrain-rmse:2.82704\teval-rmse:4.05543\n",
            "[37]\ttrain-rmse:2.80901\teval-rmse:4.05566\n",
            "[38]\ttrain-rmse:2.79730\teval-rmse:4.05435\n",
            "[39]\ttrain-rmse:2.78229\teval-rmse:4.05326\n",
            "[40]\ttrain-rmse:2.76442\teval-rmse:4.05170\n",
            "[41]\ttrain-rmse:2.74929\teval-rmse:4.05147\n",
            "[42]\ttrain-rmse:2.73891\teval-rmse:4.04972\n",
            "[43]\ttrain-rmse:2.73017\teval-rmse:4.04847\n",
            "[44]\ttrain-rmse:2.70987\teval-rmse:4.04713\n",
            "[45]\ttrain-rmse:2.68851\teval-rmse:4.04212\n",
            "[46]\ttrain-rmse:2.67553\teval-rmse:4.03995\n",
            "[47]\ttrain-rmse:2.65357\teval-rmse:4.03463\n",
            "[48]\ttrain-rmse:2.64174\teval-rmse:4.03249\n",
            "[49]\ttrain-rmse:2.63176\teval-rmse:4.03037\n",
            "[50]\ttrain-rmse:2.61980\teval-rmse:4.03139\n",
            "[51]\ttrain-rmse:2.61125\teval-rmse:4.03061\n",
            "[52]\ttrain-rmse:2.60155\teval-rmse:4.03001\n",
            "[53]\ttrain-rmse:2.58354\teval-rmse:4.02950\n",
            "[54]\ttrain-rmse:2.57341\teval-rmse:4.02891\n",
            "[55]\ttrain-rmse:2.55510\teval-rmse:4.02940\n",
            "[56]\ttrain-rmse:2.54336\teval-rmse:4.02759\n",
            "[57]\ttrain-rmse:2.53292\teval-rmse:4.02545\n",
            "[58]\ttrain-rmse:2.52230\teval-rmse:4.02553\n",
            "[59]\ttrain-rmse:2.50856\teval-rmse:4.02499\n",
            "[60]\ttrain-rmse:2.50078\teval-rmse:4.02398\n",
            "[61]\ttrain-rmse:2.48492\teval-rmse:4.02322\n",
            "[62]\ttrain-rmse:2.47338\teval-rmse:4.02152\n",
            "[63]\ttrain-rmse:2.46792\teval-rmse:4.02121\n",
            "[64]\ttrain-rmse:2.45789\teval-rmse:4.01989\n",
            "[65]\ttrain-rmse:2.44366\teval-rmse:4.02052\n",
            "[66]\ttrain-rmse:2.43182\teval-rmse:4.01973\n",
            "[67]\ttrain-rmse:2.42462\teval-rmse:4.02073\n",
            "[68]\ttrain-rmse:2.41668\teval-rmse:4.02047\n",
            "[69]\ttrain-rmse:2.41085\teval-rmse:4.02084\n",
            "[70]\ttrain-rmse:2.40559\teval-rmse:4.02099\n",
            "[71]\ttrain-rmse:2.39643\teval-rmse:4.02116\n",
            "[72]\ttrain-rmse:2.38741\teval-rmse:4.02078\n",
            "[73]\ttrain-rmse:2.37865\teval-rmse:4.02134\n",
            "[74]\ttrain-rmse:2.36286\teval-rmse:4.02140\n",
            "[75]\ttrain-rmse:2.35520\teval-rmse:4.02061\n",
            "[76]\ttrain-rmse:2.35133\teval-rmse:4.02059\n",
            "[77]\ttrain-rmse:2.33538\teval-rmse:4.01856\n",
            "[78]\ttrain-rmse:2.32659\teval-rmse:4.01849\n",
            "[79]\ttrain-rmse:2.31961\teval-rmse:4.01836\n",
            "[80]\ttrain-rmse:2.31008\teval-rmse:4.01887\n",
            "[81]\ttrain-rmse:2.30461\teval-rmse:4.01855\n",
            "[82]\ttrain-rmse:2.29396\teval-rmse:4.01947\n",
            "[83]\ttrain-rmse:2.28437\teval-rmse:4.01882\n",
            "[84]\ttrain-rmse:2.27742\teval-rmse:4.01905\n",
            "[85]\ttrain-rmse:2.27304\teval-rmse:4.01988\n",
            "[86]\ttrain-rmse:2.26357\teval-rmse:4.02049\n",
            "[87]\ttrain-rmse:2.25757\teval-rmse:4.02112\n",
            "[88]\ttrain-rmse:2.25187\teval-rmse:4.02170\n",
            "[89]\ttrain-rmse:2.24139\teval-rmse:4.02253\n",
            "[90]\ttrain-rmse:2.23639\teval-rmse:4.02295\n",
            "[91]\ttrain-rmse:2.22507\teval-rmse:4.02275\n",
            "[92]\ttrain-rmse:2.21728\teval-rmse:4.02302\n",
            "[93]\ttrain-rmse:2.20191\teval-rmse:4.02431\n",
            "[94]\ttrain-rmse:2.19763\teval-rmse:4.02449\n",
            "[95]\ttrain-rmse:2.18634\teval-rmse:4.02452\n",
            "[96]\ttrain-rmse:2.18223\teval-rmse:4.02465\n",
            "[97]\ttrain-rmse:2.17842\teval-rmse:4.02604\n",
            "[98]\ttrain-rmse:2.16984\teval-rmse:4.02623\n",
            "[99]\ttrain-rmse:2.16477\teval-rmse:4.02586\n",
            "Stopping. Best iteration:\n",
            "[79]\ttrain-rmse:2.31961\teval-rmse:4.01836\n",
            "\n"
          ],
          "name": "stdout"
        }
      ]
    },
    {
      "cell_type": "code",
      "metadata": {
        "trusted": true,
        "id": "hW3wTyTAru5i",
        "outputId": "6f2a7099-6dea-4e11-c792-7424852118f5"
      },
      "source": [
        "print(\"\\nGPU + cuDF Time Taken:\\n\", round(timetaken_gpu,1))"
      ],
      "execution_count": null,
      "outputs": [
        {
          "output_type": "stream",
          "text": [
            "\n",
            "GPU + cuDF Time Taken:\n",
            " 13.3\n"
          ],
          "name": "stdout"
        }
      ]
    },
    {
      "cell_type": "code",
      "metadata": {
        "trusted": true,
        "id": "WkrJC5WAru5p"
      },
      "source": [
        "pred_DGX = xgb.DMatrix(test)\n",
        "y_pred = bst.predict(pred_DGX)"
      ],
      "execution_count": null,
      "outputs": []
    },
    {
      "cell_type": "code",
      "metadata": {
        "trusted": true,
        "id": "lJCmqgq9ru5s",
        "outputId": "d1cde20d-c76a-4206-f4ba-91d78f8defe2"
      },
      "source": [
        "from matplotlib import pyplot as plt\n",
        "from xgboost import plot_importance\n",
        "\n",
        "plot_importance(bst)\n",
        "plt.show()"
      ],
      "execution_count": null,
      "outputs": [
        {
          "output_type": "display_data",
          "data": {
            "text/plain": [
              "<Figure size 432x288 with 1 Axes>"
            ],
            "image/png": "[encoded data removed]"
          },
          "metadata": {
            "tags": [],
            "needs_background": "light"
          }
        }
      ]
    },
    {
      "cell_type": "markdown",
      "metadata": {
        "id": "kAf0ZvlI0HMI"
      },
      "source": [
        "The above diagram illustrates the respective influence of individual parameters on the model. It is noticeable that, in contrast to the other approaches, the distance plays a much smaller role. Instead, the coordinates are in focus."
      ]
    },
    {
      "cell_type": "code",
      "metadata": {
        "trusted": true,
        "id": "W_e8HtO3ru5v",
        "outputId": "b9937344-a95a-4609-91c6-d579829fccf6"
      },
      "source": [
        "model_save(y_pred,\"/XGBoost.csv\")"
      ],
      "execution_count": null,
      "outputs": [
        {
          "output_type": "execute_result",
          "data": {
            "text/plain": [
              "                           key  fare_amount\n",
              "0  2015-01-27 13:08:24.0000002     9.917575\n",
              "1  2015-01-27 13:08:24.0000003     9.641943\n",
              "2  2011-10-08 11:53:44.0000002     5.166448\n",
              "3  2012-12-01 21:12:12.0000002     9.284602\n",
              "4  2012-12-01 21:12:12.0000003    17.013460"
            ],
            "text/html": [
              "<div>\n",
              "<style scoped>\n",
              "    .dataframe tbody tr th:only-of-type {\n",
              "        vertical-align: middle;\n",
              "    }\n",
              "\n",
              "    .dataframe tbody tr th {\n",
              "        vertical-align: top;\n",
              "    }\n",
              "\n",
              "    .dataframe thead th {\n",
              "        text-align: right;\n",
              "    }\n",
              "</style>\n",
              "<table border=\"1\" class=\"dataframe\">\n",
              "  <thead>\n",
              "    <tr style=\"text-align: right;\">\n",
              "      <th></th>\n",
              "      <th>key</th>\n",
              "      <th>fare_amount</th>\n",
              "    </tr>\n",
              "  </thead>\n",
              "  <tbody>\n",
              "    <tr>\n",
              "      <th>0</th>\n",
              "      <td>2015-01-27 13:08:24.0000002</td>\n",
              "      <td>9.917575</td>\n",
              "    </tr>\n",
              "    <tr>\n",
              "      <th>1</th>\n",
              "      <td>2015-01-27 13:08:24.0000003</td>\n",
              "      <td>9.641943</td>\n",
              "    </tr>\n",
              "    <tr>\n",
              "      <th>2</th>\n",
              "      <td>2011-10-08 11:53:44.0000002</td>\n",
              "      <td>5.166448</td>\n",
              "    </tr>\n",
              "    <tr>\n",
              "      <th>3</th>\n",
              "      <td>2012-12-01 21:12:12.0000002</td>\n",
              "      <td>9.284602</td>\n",
              "    </tr>\n",
              "    <tr>\n",
              "      <th>4</th>\n",
              "      <td>2012-12-01 21:12:12.0000003</td>\n",
              "      <td>17.013460</td>\n",
              "    </tr>\n",
              "  </tbody>\n",
              "</table>\n",
              "</div>"
            ]
          },
          "metadata": {
            "tags": []
          },
          "execution_count": 85
        }
      ]
    },
    {
      "cell_type": "markdown",
      "metadata": {
        "id": "XNjAb4kMru5y"
      },
      "source": [
        "# 10. XGBoost CPU"
      ]
    },
    {
      "cell_type": "code",
      "metadata": {
        "trusted": true,
        "id": "PSAVBZmIru5z",
        "outputId": "a2ab2580-7e64-4ccd-b86f-b026056a0dba"
      },
      "source": [
        "%%time\n",
        "\n",
        "model=xgb.XGBRegressor()\n",
        "model.fit(X_train_lr, y_train_lr)\n",
        "\n",
        "Y_pred=model.predict(data=X_test_lr)"
      ],
      "execution_count": null,
      "outputs": [
        {
          "output_type": "stream",
          "text": [
            "CPU times: user 1min 15s, sys: 371 ms, total: 1min 15s\n",
            "Wall time: 41.2 s\n"
          ],
          "name": "stdout"
        }
      ]
    },
    {
      "cell_type": "code",
      "metadata": {
        "trusted": true,
        "id": "9pHDV-XDru52",
        "outputId": "0ec3342a-978c-492b-974c-e6521b22deeb"
      },
      "source": [
        "from matplotlib import pyplot as plt\n",
        "from xgboost import plot_importance\n",
        "\n",
        "plot_importance(model)\n",
        "plt.show()"
      ],
      "execution_count": null,
      "outputs": [
        {
          "output_type": "display_data",
          "data": {
            "text/plain": [
              "<Figure size 432x288 with 1 Axes>"
            ],
            "image/png": "[encoded data removed]"
          },
          "metadata": {
            "tags": [],
            "needs_background": "light"
          }
        }
      ]
    },
    {
      "cell_type": "markdown",
      "metadata": {
        "id": "1Zg5V1rGru55"
      },
      "source": [
        "XGBoost already took 3.3 seconds on the CPU with 50,000 records, while it took 42.2 seconds on the GPU with over 12 million records. A direct comparison was not possible, because XGBoost could not process such large amounts of data on the CPU."
      ]
    },
    {
      "cell_type": "markdown",
      "metadata": {
        "id": "dXgn5i-9r2Ih"
      },
      "source": [
        "# 11. LGBM model"
      ]
    },
    {
      "cell_type": "markdown",
      "metadata": {
        "id": "awLaNNrur6tD"
      },
      "source": [
        "- https://medium.com/@pushkarmandot/https-medium-com-pushkarmandot-what-is-lightgbm-how-to-implement-it-how-to-fine-tune-the-parameters-60347819b7fc\n",
        "\n",
        "- https://www.kaggle.com/nicapotato/taxi-rides-time-analysis-and-oof-lgbm\n",
        "\n",
        "- https://www.kaggle.com/dsaichand3/lgbm-gpu\n",
        "\n",
        "- https://www.kaggle.com/aerdem4/rapids-svm-on-trends-neuroimaging\n",
        "\n",
        "\n",
        "Compared CPU vs GPU:\n",
        "- https://www.kaggle.com/ishivinal/sklearn-rapids-pandas\n"
      ]
    },
    {
      "cell_type": "markdown",
      "metadata": {
        "id": "Br4cxQ_dhhOd"
      },
      "source": [
        "## Setup LGBM with GPU Support\n",
        "\n",
        "How to setup LGBM GPU Beta:\n",
        "- https://www.kaggle.com/vinhnguyen/gpu-acceleration-for-lightgbm\n"
      ]
    },
    {
      "cell_type": "markdown",
      "metadata": {
        "id": "W14jZXN4NQXj"
      },
      "source": [
        "this approach got some problems and ran out of runtime several times, maybe CPU/GPU in Kaggle aren't as powerful as they would need to be."
      ]
    },
    {
      "cell_type": "code",
      "metadata": {
        "id": "LCEtHPjI3L68",
        "trusted": true
      },
      "source": [
        "!rm -r /opt/conda/lib/python3.6/site-packages/lightgbm\n",
        "!git clone --recursive https://github.com/Microsoft/LightGBM\n",
        "!apt-get install -y -qq libboost-all-dev"
      ],
      "execution_count": null,
      "outputs": []
    },
    {
      "cell_type": "code",
      "metadata": {
        "trusted": true,
        "id": "N5L_pFgMr-qo"
      },
      "source": [
        "%%bash\n",
        "cd LightGBM\n",
        "rm -r build\n",
        "mkdir build\n",
        "cd build\n",
        "cmake -DUSE_GPU=1 -DOpenCL_LIBRARY=/usr/local/cuda/lib64/libOpenCL.so -DOpenCL_INCLUDE_DIR=/usr/local/cuda/include/ ..\n",
        "make -j$(nproc)"
      ],
      "execution_count": null,
      "outputs": []
    },
    {
      "cell_type": "code",
      "metadata": {
        "id": "xAb6mTwwqps-",
        "trusted": true
      },
      "source": [
        "!cd LightGBM/python-package/;python3 setup.py install --precompile\n",
        "!mkdir -p /etc/OpenCL/vendors && echo \"libnvidia-opencl.so.1\" > /etc/OpenCL/vendors/nvidia.icd\n",
        "!rm -r LightGBM"
      ],
      "execution_count": null,
      "outputs": []
    },
    {
      "cell_type": "code",
      "metadata": {
        "id": "IHTr7KCZNXrL"
      },
      "source": [
        "%%bash\n",
        "cd .."
      ],
      "execution_count": null,
      "outputs": []
    },
    {
      "cell_type": "code",
      "metadata": {
        "id": "edo-HnESNbRB"
      },
      "source": [
        "!pip install lightgbm --install-option=--gpu --force-reinstall"
      ],
      "execution_count": null,
      "outputs": []
    },
    {
      "cell_type": "code",
      "metadata": {
        "id": "eVlid4GMsy2W",
        "trusted": true
      },
      "source": [
        "import lightgbm as lgbm"
      ],
      "execution_count": null,
      "outputs": []
    },
    {
      "cell_type": "code",
      "metadata": {
        "id": "bS403xD2hqTa",
        "trusted": true
      },
      "source": [
        "## Inspiration from https://www.kaggle.com/dsaichand3/lgbm-gpu\n",
        "params = {\n",
        "        'boosting_type':'gbdt',\n",
        "        'objective': 'regression',\n",
        "        'nthread': 4,\n",
        "        'num_leaves': 31,\n",
        "        'learning_rate': 0.15,\n",
        "        'max_depth': -1,\n",
        "        'subsample': 0.8,\n",
        "        'bagging_fraction' : 1,\n",
        "        'max_bin' : 15,\n",
        "        'bagging_freq': 20,\n",
        "        'colsample_bytree': 0.6,\n",
        "        'metric': 'rmse',\n",
        "        'min_split_gain': 0.5,\n",
        "        'min_child_weight': 1,\n",
        "        'min_child_samples': 10,\n",
        "        'scale_pos_weight':1,\n",
        "        'zero_as_missing': True,\n",
        "        'seed':0,\n",
        "        'num_rounds':50000,\n",
        "        'device': 'gpu',\n",
        "        'gpu_platform_id': 0,\n",
        "        'gpu_device_id': 0\n",
        "    }"
      ],
      "execution_count": null,
      "outputs": []
    },
    {
      "cell_type": "code",
      "metadata": {
        "id": "F4ihZhGkip44",
        "trusted": true
      },
      "source": [
        "col_cat = X_train.select_dtypes('object').columns.tolist()\n",
        "\n",
        "d_train = lgbm.Dataset(X_train.to_pandas(), label = y_train.to_pandas(), categorical_feature = col_cat, free_raw_data=False)\n",
        "d_valid = lgbm.Dataset(X_test.to_pandas(), label = y_test.to_pandas(), categorical_feature = col_cat, free_raw_data=False)"
      ],
      "execution_count": null,
      "outputs": []
    },
    {
      "cell_type": "code",
      "metadata": {
        "id": "_PAZn171ip1s",
        "trusted": true
      },
      "source": [
        "%%time\n",
        "lgbm_model = lgbm.train(params_1, train_set = d_train, num_boost_round=10000, early_stopping_rounds=100, verbose_eval=10, valid_sets=d_valid)"
      ],
      "execution_count": null,
      "outputs": []
    },
    {
      "cell_type": "code",
      "metadata": {
        "id": "aFYM35GRhqNW",
        "trusted": true
      },
      "source": [
        "y_pred = lgbm_model.predict(X_test, num_iteration = model.best_iteration)"
      ],
      "execution_count": null,
      "outputs": []
    },
    {
      "cell_type": "code",
      "metadata": {
        "id": "AF7Vt2-FNm-k"
      },
      "source": [
        "model_save(y_pred, \"/LGBM.csv\")"
      ],
      "execution_count": null,
      "outputs": []
    },
    {
      "cell_type": "markdown",
      "metadata": {
        "id": "Qz1vk8UNVeAv"
      },
      "source": [
        "# 12. Evaluation and Discussion"
      ]
    },
    {
      "cell_type": "markdown",
      "metadata": {
        "id": "FCBDBv4NsLBU"
      },
      "source": [
        "It was to be recognized that there is a multiplicity of models, which are designed to be computed on several GPUs. The use of a single GPU is less popular, although not less successful. Even with small data sets the differences in runtimes can be seen. In the more detailed use and optimization of XGBoost the difference became even more significant. While the GPU processed the data set with 12 million rows without problems in less than 45 seconds, the CPU was not even able to start processing at all. \n",
        "\n",
        "The main difficulties were the differentiated data processing and the significantly lower number of examples for RAPIDS. Since it was rarely possible to transfer CPU models 1:1 to the GPU, there were less possibilities to compare both applications at the same time. Nevertheless, the continuous development of GPU-based models shows that this is where the future lies when CPUs reach their performance limits."
      ]
    },
    {
      "cell_type": "markdown",
      "metadata": {
        "id": "Bdo9b5YuucKe"
      },
      "source": [
        "But the central problem was the lack of infrastructure. While most of the models were still running on Kaggle, Colab was hardly usable."
      ]
    }
  ]
}